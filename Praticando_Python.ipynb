{
  "nbformat": 4,
  "nbformat_minor": 0,
  "metadata": {
    "colab": {
      "provenance": [],
      "include_colab_link": true
    },
    "kernelspec": {
      "name": "python3",
      "display_name": "Python 3"
    },
    "language_info": {
      "name": "python"
    }
  },
  "cells": [
    {
      "cell_type": "markdown",
      "metadata": {
        "id": "view-in-github",
        "colab_type": "text"
      },
      "source": [
        "<a href=\"https://colab.research.google.com/github/IzabelaSanita/Praticando-Python/blob/main/Praticando_Python.ipynb\" target=\"_parent\"><img src=\"https://colab.research.google.com/assets/colab-badge.svg\" alt=\"Open In Colab\"/></a>"
      ]
    },
    {
      "cell_type": "markdown",
      "source": [
        "# Sobre o notebook\n",
        "\n",
        "A \"hora da prática\" é uma atividade do curso de Python para Data Science da Alura que contém diversos desafios envolvendo os aprendizados de cada aula.\n",
        "\n",
        "O notebook \"hora da pratica\" é um notebook construído com espaço para as células dos desafios propostos no curso, com ele você tem espaço para construir e executar suas soluções"
      ],
      "metadata": {
        "id": "_kwAaQ36gLQ1"
      }
    },
    {
      "cell_type": "markdown",
      "source": [
        "## Aula 1 - Introdução ao Python"
      ],
      "metadata": {
        "id": "Mc-KN0dA0Z83"
      }
    },
    {
      "cell_type": "markdown",
      "source": [
        "### Questão 1\n",
        "\n",
        "Imprima a frase `Escola de Dados da Alura!`"
      ],
      "metadata": {
        "id": "l5eLWf0W0ikn"
      }
    },
    {
      "cell_type": "code",
      "source": [
        "print('Escola de Dados da Alura!')"
      ],
      "metadata": {
        "id": "5pllxJ0h0-yA",
        "colab": {
          "base_uri": "https://localhost:8080/"
        },
        "outputId": "58eb4bac-bfa4-46fe-c7cb-8532704d8219"
      },
      "execution_count": null,
      "outputs": [
        {
          "output_type": "stream",
          "name": "stdout",
          "text": [
            "Escola de Dados da Alura!\n"
          ]
        }
      ]
    },
    {
      "cell_type": "markdown",
      "source": [
        "### Questão 2\n",
        "Imprima na tela seu nome e seu sobrenome seguindo a estrutura abaixo:\n",
        "```\n",
        "Nome: [seu nome]\n",
        "Sobrenome: [seu sobrenome]\n",
        "```\n"
      ],
      "metadata": {
        "id": "tQdX90Ue03c7"
      }
    },
    {
      "cell_type": "code",
      "source": [
        "print('Nome: Izabela')\n",
        "print('Sobrenome: Sanitá')"
      ],
      "metadata": {
        "id": "RVw5iKn20_Ps",
        "colab": {
          "base_uri": "https://localhost:8080/"
        },
        "outputId": "cc7f6940-82e6-48b9-d415-440a16b3aa07"
      },
      "execution_count": null,
      "outputs": [
        {
          "output_type": "stream",
          "name": "stdout",
          "text": [
            "Nome: Izabela\n",
            "Sobrenome: Sanitá\n"
          ]
        }
      ]
    },
    {
      "cell_type": "markdown",
      "source": [
        "### Questão 3\n",
        "Imprima o seu primeiro nome letra a letra. Por exemplo, nome é Mirla, então eu obtenho a seguinte saída:\n",
        "```\n",
        "M\n",
        "I\n",
        "R\n",
        "L\n",
        "A\n",
        "```\n"
      ],
      "metadata": {
        "id": "gfg-aiip03vC"
      }
    },
    {
      "cell_type": "code",
      "source": [
        "print('I')\n",
        "print('Z')\n",
        "print('A')\n",
        "print('B')\n",
        "print('E')\n",
        "print('L')\n",
        "print('A')"
      ],
      "metadata": {
        "id": "v5bkrgf60_qx",
        "colab": {
          "base_uri": "https://localhost:8080/"
        },
        "outputId": "1df43a42-a15c-41c4-dca7-cefadac3dc1f"
      },
      "execution_count": null,
      "outputs": [
        {
          "output_type": "stream",
          "name": "stdout",
          "text": [
            "I\n",
            "Z\n",
            "A\n",
            "B\n",
            "E\n",
            "L\n",
            "A\n"
          ]
        }
      ]
    },
    {
      "cell_type": "markdown",
      "source": [
        "### Questão 4\n",
        "Imprima o dia do seu nascimento em formato `dia mês ano`. Os valores de dia e ano não podem estar entre aspas. O formato deve estar como no exemplo, supondo uma data de aniversário dia 28 de fevereiro de 2003:\n",
        "```\n",
        "28 fevereiro 2003\n",
        "```"
      ],
      "metadata": {
        "id": "oadrJbl704MM"
      }
    },
    {
      "cell_type": "code",
      "source": [
        "print(4, 'setembro', 2007)"
      ],
      "metadata": {
        "id": "cx0KSsrq1ALD",
        "colab": {
          "base_uri": "https://localhost:8080/"
        },
        "outputId": "893d408c-1d73-47dd-f238-79a84e1bc84a"
      },
      "execution_count": null,
      "outputs": [
        {
          "output_type": "stream",
          "name": "stdout",
          "text": [
            "4 setembro 2007\n"
          ]
        }
      ]
    },
    {
      "cell_type": "markdown",
      "source": [
        "### Questão 5\n",
        "Imprima em um único print o atual ano que você está fazendo esse curso, o valor do ano deve ser um dado numérico. A saída do print deve ser a seguinte:\n",
        "```\n",
        "Ano atual: [ano]\n",
        "```\n"
      ],
      "metadata": {
        "id": "3RgyMaan04TD"
      }
    },
    {
      "cell_type": "code",
      "execution_count": null,
      "metadata": {
        "id": "UN77EfQ2d36Y",
        "colab": {
          "base_uri": "https://localhost:8080/"
        },
        "outputId": "9327783e-5608-4a8d-996d-f24a7675ae14"
      },
      "outputs": [
        {
          "output_type": "stream",
          "name": "stdout",
          "text": [
            "Ano atual: 2025\n"
          ]
        }
      ],
      "source": [
        "print('Ano atual:', 2025)"
      ]
    },
    {
      "cell_type": "markdown",
      "source": [
        "## Aula 2 - Manipulando dados no Python"
      ],
      "metadata": {
        "id": "D9e3FqhO1S3X"
      }
    },
    {
      "cell_type": "markdown",
      "source": [
        "### Coleta e amostragem de dados"
      ],
      "metadata": {
        "id": "n6o7C1Ze2cRe"
      }
    },
    {
      "cell_type": "markdown",
      "source": [
        "#### Questão 1\n",
        "Crie um programa que solicite à pessoa usuária digitar seu nome, e imprima “Olá, [nome]!”."
      ],
      "metadata": {
        "id": "sRneWag9PV5Q"
      }
    },
    {
      "cell_type": "code",
      "source": [
        "nome = input('Digite seu nome: ')\n",
        "print(f'Olá,{nome}!')"
      ],
      "metadata": {
        "id": "dbX1fKqy2HnE",
        "colab": {
          "base_uri": "https://localhost:8080/"
        },
        "outputId": "a6af1a01-8eb3-46bc-f370-bc8ee4f31923"
      },
      "execution_count": null,
      "outputs": [
        {
          "output_type": "stream",
          "name": "stdout",
          "text": [
            "Digite seu nome: Izabela\n",
            "Olá,Izabela!\n"
          ]
        }
      ]
    },
    {
      "cell_type": "markdown",
      "source": [
        "#### Questão 2\n",
        "Crie um programa que solicite à pessoa usuária digitar seu nome e idade, e imprima “Olá, [nome], você tem [idade] anos.”."
      ],
      "metadata": {
        "id": "BJ1SznEp70d5"
      }
    },
    {
      "cell_type": "code",
      "source": [
        "nome = input('Digite seu nome: ')\n",
        "idade = int(input('Digite sua idade: '))\n",
        "print(f'Olá, {nome}, você tem {idade} anos.')"
      ],
      "metadata": {
        "id": "jKz-0Sq8PFkp",
        "colab": {
          "base_uri": "https://localhost:8080/"
        },
        "outputId": "105bdbf4-e084-4038-bf7f-a1735b5f3ef4"
      },
      "execution_count": null,
      "outputs": [
        {
          "output_type": "stream",
          "name": "stdout",
          "text": [
            "Digite seu nome: Izabela\n",
            "Digite sua idade: 17\n",
            "Olá, Izabela, você tem 17 anos.\n"
          ]
        }
      ]
    },
    {
      "cell_type": "markdown",
      "source": [
        "#### Questão 3\n",
        "Crie um programa que solicite à pessoa usuária digitar seu nome, idade e altura em metros, e imprima “Olá, [nome], você tem [idade] anos e mede [altura] metros!”."
      ],
      "metadata": {
        "id": "2T0jNYZt70aa"
      }
    },
    {
      "cell_type": "code",
      "source": [
        "nome = input('Digite seu nome: ')\n",
        "idade = int(input('Digite sua idade: '))\n",
        "altura = float(input('Digite sua altura em metros: '))\n",
        "print('Olá, %s, você tem %d anos e mede %.2f metros!' %(nome, idade, altura))"
      ],
      "metadata": {
        "id": "pI4kHNzTPIXh",
        "colab": {
          "base_uri": "https://localhost:8080/"
        },
        "outputId": "35455b96-52bb-4344-a0cb-d5f60f92ddf6"
      },
      "execution_count": null,
      "outputs": [
        {
          "output_type": "stream",
          "name": "stdout",
          "text": [
            "Digite seu nome: Izabela\n",
            "Digite sua idade: 17\n",
            "Digite sua altura em metros: 1.50\n",
            "Olá, Izabela, você tem 17 anos e mede 1.50 metros!\n"
          ]
        }
      ]
    },
    {
      "cell_type": "markdown",
      "source": [
        "### Calculadora com operadores"
      ],
      "metadata": {
        "id": "mEBFwKkC70KP"
      }
    },
    {
      "cell_type": "markdown",
      "source": [
        "#### Questão 1\n",
        "\n",
        "Crie um programa que solicite dois valores numéricos à pessoa usuária e imprima a soma dos dois valores."
      ],
      "metadata": {
        "id": "H-IV1oAPPSqK"
      }
    },
    {
      "cell_type": "code",
      "source": [
        "valor_1 = int(input('Digite o primeiro valor: '))\n",
        "valor_2 = int(input('Digite o segundo valor: '))\n",
        "soma = valor_1 + valor_2\n",
        "print('O resultado é:', soma)"
      ],
      "metadata": {
        "id": "Zb0W84sy8rnp",
        "colab": {
          "base_uri": "https://localhost:8080/"
        },
        "outputId": "2c488e4e-6bb2-485d-d4aa-0424776baae9"
      },
      "execution_count": null,
      "outputs": [
        {
          "output_type": "stream",
          "name": "stdout",
          "text": [
            "Digite o primeiro valor: 687\n",
            "Digite o segundo valor: 89\n",
            "O resultado é: 776\n"
          ]
        }
      ]
    },
    {
      "cell_type": "markdown",
      "source": [
        "#### Questão 2\n",
        "Crie um programa que solicite três valores numéricos à pessoa usuária e imprima a soma dos três valores."
      ],
      "metadata": {
        "id": "LUoi2MOu70Em"
      }
    },
    {
      "cell_type": "code",
      "source": [
        "valor1 = int(input('Digite o primeiro valor: '))\n",
        "valor2 = int(input('DIgite o segundo valor: '))\n",
        "valor3 = int(input('Digite o terceiro valor: '))\n",
        "soma = valor1+valor2+valor3\n",
        "print('O resultado é:4',soma)"
      ],
      "metadata": {
        "id": "4FYjWyBS8rDm",
        "colab": {
          "base_uri": "https://localhost:8080/"
        },
        "outputId": "24ae0e94-682b-46bc-d0ff-cfdc87b61a9c"
      },
      "execution_count": null,
      "outputs": [
        {
          "output_type": "stream",
          "name": "stdout",
          "text": [
            "Digite o primeiro valor: 89 \n",
            "DIgite o segundo valor: 6\n",
            "Digite o terceiro valor: 4\n",
            "O resultado é: 99\n"
          ]
        }
      ]
    },
    {
      "cell_type": "markdown",
      "source": [
        "#### Questão 3\n",
        "Crie um programa que solicite dois valores numéricos à pessoa usuária e imprima a subtração do primeiro pelo o segundo valor."
      ],
      "metadata": {
        "id": "lezGctF07z8i"
      }
    },
    {
      "cell_type": "code",
      "source": [
        "v1 = int(input('Primeiro valor: '))\n",
        "v2 = int(input('Segundo valor: '))\n",
        "subtracao = v1 - v2\n",
        "print('O resultado é:', subtracao)"
      ],
      "metadata": {
        "id": "k0GE1z4w8p3J",
        "colab": {
          "base_uri": "https://localhost:8080/"
        },
        "outputId": "0f1a2bfe-90a4-4d8e-f406-37f713c51f80"
      },
      "execution_count": null,
      "outputs": [
        {
          "output_type": "stream",
          "name": "stdout",
          "text": [
            "Primeiro valor: 5\n",
            "Segundo valor: 95\n",
            "O resultado é: -90\n"
          ]
        }
      ]
    },
    {
      "cell_type": "markdown",
      "source": [
        "#### Questão 4\n",
        "\n",
        "Crie um programa que solicite dois valores numéricos à pessoa usuária e imprima a multiplicação dos dois valores.\n"
      ],
      "metadata": {
        "id": "wwMP-dPU7zxW"
      }
    },
    {
      "cell_type": "code",
      "source": [
        "val1 = int(input('Valor um: '))\n",
        "val2 = int(input('Valor dois: '))\n",
        "produto = val1 * val2\n",
        "print('Resultado:', produto)"
      ],
      "metadata": {
        "id": "GzFCVHfp8peZ",
        "colab": {
          "base_uri": "https://localhost:8080/"
        },
        "outputId": "84cbfd69-aab6-401e-d823-9dbe010a4d78"
      },
      "execution_count": null,
      "outputs": [
        {
          "output_type": "stream",
          "name": "stdout",
          "text": [
            "Valor um: 54\n",
            "Valor dois: 6\n",
            "Resultado: 324\n"
          ]
        }
      ]
    },
    {
      "cell_type": "markdown",
      "source": [
        "#### Questão 5\n",
        "\n",
        "Crie um programa que solicite dois valores numéricos, um numerador e um denominador, e realize a divisão entre os dois valores. Deixe claro que o valor do denominador não pode ser `0`.\n"
      ],
      "metadata": {
        "id": "9kxyHxUo7zRD"
      }
    },
    {
      "cell_type": "code",
      "source": [
        "num = float(input('Digite um numerador: '))\n",
        "den = float(input('Digite um denominador que seja diferente de 0: '))\n",
        "quo = num/den\n",
        "print('Resultado:', quo)"
      ],
      "metadata": {
        "id": "ytJ8l5KH8ozc",
        "colab": {
          "base_uri": "https://localhost:8080/"
        },
        "outputId": "cd9b9c14-b85c-44f1-e9bf-77f903d4f56c"
      },
      "execution_count": null,
      "outputs": [
        {
          "output_type": "stream",
          "name": "stdout",
          "text": [
            "Digite um numerador: 80\n",
            "Digite um denominador que seja diferente de 0: 45\n",
            "Resultado: 1.7777777777777777\n"
          ]
        }
      ]
    },
    {
      "cell_type": "markdown",
      "source": [
        "#### Questão 6\n",
        "\n",
        "Crie um programa que solicite dois valores numéricos, um operador e uma potência, e realize a exponenciação entre esses dois valores.\n"
      ],
      "metadata": {
        "id": "zkUSBTQq8Hxt"
      }
    },
    {
      "cell_type": "code",
      "source": [
        "base = int(input('Digite a base: '))\n",
        "expoente = int(input('Digite o expoente: '))\n",
        "potencia = base**expoente\n",
        "print('Resultado:', potencia)"
      ],
      "metadata": {
        "id": "RPj36jq08oZp",
        "colab": {
          "base_uri": "https://localhost:8080/"
        },
        "outputId": "e16d3e42-3156-45f0-a4e9-0bfab672018d"
      },
      "execution_count": null,
      "outputs": [
        {
          "output_type": "stream",
          "name": "stdout",
          "text": [
            "Número de baixo: 84\n",
            "Número de cima: 9\n",
            "Essa merda deu: 208215748530929664\n"
          ]
        }
      ]
    },
    {
      "cell_type": "markdown",
      "source": [
        "#### Questão 7\n",
        "Crie um programa que solicite dois valores numéricos, um numerador e um denominador e realize a divisão inteira entre os dois valores. Deixe claro que o valor do denominador não pode ser `0`."
      ],
      "metadata": {
        "id": "yiunIusZ8Huj"
      }
    },
    {
      "cell_type": "code",
      "source": [
        "numerador = int(input('Numerador: '))\n",
        "denominador = int(input('Denominador (diferente de zero): '))\n",
        "quocienteInteiro = numerador//denominador\n",
        "print('Resultado:',quocienteInteiro)"
      ],
      "metadata": {
        "id": "UHK8xITf8oCg",
        "colab": {
          "base_uri": "https://localhost:8080/"
        },
        "outputId": "3967f3d3-f24e-4ff9-8240-6ea049164f2c"
      },
      "execution_count": null,
      "outputs": [
        {
          "output_type": "stream",
          "name": "stdout",
          "text": [
            "Numerador: 5\n",
            "Denominador (diferente de zero): 2\n",
            "Resultado: 2\n"
          ]
        }
      ]
    },
    {
      "cell_type": "markdown",
      "source": [
        "#### Questão 8\n",
        "\n",
        "Crie um programa que solicite dois valores numéricos, um numerador e um denominador, e retorne o resto da divisão entre os dois valores. Deixe claro que o valor do denominador não pode ser `0`."
      ],
      "metadata": {
        "id": "z_D_JiLX8Hra"
      }
    },
    {
      "cell_type": "code",
      "source": [
        "num = int(input('Numerador: '))\n",
        "den = int(input('Denominador (diferente de zero): '))\n",
        "resto = num%den\n",
        "print('Resultado:',resto)"
      ],
      "metadata": {
        "id": "EWGJeukO8nqx",
        "colab": {
          "base_uri": "https://localhost:8080/"
        },
        "outputId": "7497a0d8-4691-4a1c-f977-2ba9b8a75c7a"
      },
      "execution_count": null,
      "outputs": [
        {
          "output_type": "stream",
          "name": "stdout",
          "text": [
            "Numerador: 5\n",
            "Denominador (diferente de zero): 8\n",
            "Resultado: 5\n"
          ]
        }
      ]
    },
    {
      "cell_type": "markdown",
      "source": [
        "#### Questão 9\n",
        "\n",
        "Crie um código que solicita 3 notas de um estudante e imprima a média das notas."
      ],
      "metadata": {
        "id": "RDRajNkU8N8N"
      }
    },
    {
      "cell_type": "code",
      "source": [
        "nota1 = float(input('nota: '))\n",
        "nota2 = float(input('nota: '))\n",
        "nota3 = float(input('nota: '))\n",
        "print(f'Média: {(nota1+nota2+nota3)/3}')"
      ],
      "metadata": {
        "id": "H6F4Ojzt8nSR",
        "colab": {
          "base_uri": "https://localhost:8080/"
        },
        "outputId": "dfe17666-559b-465e-f90d-43bee9671729"
      },
      "execution_count": null,
      "outputs": [
        {
          "output_type": "stream",
          "name": "stdout",
          "text": [
            "nota: 2.4\n",
            "nota: 9.9\n",
            "nota: 8.2\n",
            "Média: 6.833333333333333\n"
          ]
        }
      ]
    },
    {
      "cell_type": "markdown",
      "source": [
        "#### Questão 10\n",
        "\n",
        "Crie um código que calcule e imprima a média ponderada dos números 5, 12, 20 e 15 com pesos respectivamente iguais a 1, 2, 3 e 4."
      ],
      "metadata": {
        "id": "d7fjkne58N21"
      }
    },
    {
      "cell_type": "code",
      "source": [
        "print((5+12*2+20*3+15*4)/10)"
      ],
      "metadata": {
        "id": "fwjoHlV48mkv",
        "colab": {
          "base_uri": "https://localhost:8080/"
        },
        "outputId": "e140b908-c8f0-414c-dab5-4830c84b57c7"
      },
      "execution_count": null,
      "outputs": [
        {
          "output_type": "stream",
          "name": "stdout",
          "text": [
            "14.9\n"
          ]
        }
      ]
    },
    {
      "cell_type": "markdown",
      "source": [
        "### Editando textos"
      ],
      "metadata": {
        "id": "GNmbX1OU8N0V"
      }
    },
    {
      "cell_type": "markdown",
      "source": [
        "#### Questão 1\n",
        "\n",
        "Crie uma variável chamada “`frase`” e atribua a ela uma string de sua escolha. Em seguida, imprima a frase na tela."
      ],
      "metadata": {
        "id": "6wZ85mCsRCV0"
      }
    },
    {
      "cell_type": "code",
      "source": [
        "frase = 'Izabela Sanitá'\n",
        "print(frase)"
      ],
      "metadata": {
        "id": "eRqr_gh-8mFy",
        "colab": {
          "base_uri": "https://localhost:8080/"
        },
        "outputId": "ddae5bd6-c00d-4abf-85f2-2e86b9628571"
      },
      "execution_count": null,
      "outputs": [
        {
          "output_type": "stream",
          "name": "stdout",
          "text": [
            "Izabela Sanitá\n"
          ]
        }
      ]
    },
    {
      "cell_type": "markdown",
      "source": [
        "#### Questão 2\n",
        "Crie um código que solicite uma frase e depois imprima a frase na tela."
      ],
      "metadata": {
        "id": "Aac17z-18Nwv"
      }
    },
    {
      "cell_type": "code",
      "source": [
        "frase = input('Digite sua frase: ')\n",
        "print(frase)"
      ],
      "metadata": {
        "id": "8zfE2hh98lb0",
        "colab": {
          "base_uri": "https://localhost:8080/"
        },
        "outputId": "b9c53a2f-090a-4d00-cda4-20d3095fc8f5"
      },
      "execution_count": null,
      "outputs": [
        {
          "output_type": "stream",
          "name": "stdout",
          "text": [
            "Digite sua frase: Izabela\n",
            "Izabela\n"
          ]
        }
      ]
    },
    {
      "cell_type": "markdown",
      "source": [
        "#### Questão 3\n",
        "\n",
        "Crie um código que solicite uma frase à pessoa usuária e imprima a mesma frase digitada mas com todas as letras maiúsculas."
      ],
      "metadata": {
        "id": "DXVzqpN58Ntr"
      }
    },
    {
      "cell_type": "code",
      "source": [
        "frase = input('Escreva aqui: ')\n",
        "print(frase.upper())"
      ],
      "metadata": {
        "id": "d0VzoYP68k-I",
        "colab": {
          "base_uri": "https://localhost:8080/"
        },
        "outputId": "9367de6f-2833-460d-f76c-e2c96681f28c"
      },
      "execution_count": null,
      "outputs": [
        {
          "output_type": "stream",
          "name": "stdout",
          "text": [
            "Escreva aqui: izabela\n",
            "IZABELA\n"
          ]
        }
      ]
    },
    {
      "cell_type": "markdown",
      "source": [
        "#### Questão 4\n",
        "\n",
        "Crie um código que solicite uma frase à pessoa usuária e imprima a mesma frase digitada mas com todas as letras minúsculas."
      ],
      "metadata": {
        "id": "I12VeNPK8Nqb"
      }
    },
    {
      "cell_type": "code",
      "source": [
        "frase = input('Digite em letras maiúsculas: ')\n",
        "print(frase.lower())"
      ],
      "metadata": {
        "id": "KD8rNy2K8kox",
        "colab": {
          "base_uri": "https://localhost:8080/"
        },
        "outputId": "7e6d84c2-71f3-4410-e921-f5e87a166122"
      },
      "execution_count": null,
      "outputs": [
        {
          "output_type": "stream",
          "name": "stdout",
          "text": [
            "Digite em letras maiúsculas: IZABELA\n",
            "izabela\n"
          ]
        }
      ]
    },
    {
      "cell_type": "markdown",
      "source": [
        "#### Questão 5\n",
        "\n",
        "Crie uma variável chamada “`frase`” e atribua a ela uma string de sua escolha. Em seguida, imprima a frase sem espaços em branco no início e no fim."
      ],
      "metadata": {
        "id": "cRqngSE48Nog"
      }
    },
    {
      "cell_type": "code",
      "source": [
        "frase = '          iza           '\n",
        "print(frase.strip())"
      ],
      "metadata": {
        "id": "aSCpdF-o8kBs",
        "colab": {
          "base_uri": "https://localhost:8080/"
        },
        "outputId": "f4fd7dbe-f23d-4f8b-aa4a-651a875f0f03"
      },
      "execution_count": null,
      "outputs": [
        {
          "output_type": "stream",
          "name": "stdout",
          "text": [
            "iza\n"
          ]
        }
      ]
    },
    {
      "cell_type": "markdown",
      "source": [
        "#### Questão 6\n",
        "\n",
        "Crie um código que solicite uma frase à pessoa usuária e imprima a mesma frase sem espaços em branco no início e no fim."
      ],
      "metadata": {
        "id": "murIazpQ8Nkv"
      }
    },
    {
      "cell_type": "code",
      "source": [
        "frase = input('Digite sua frase: ')\n",
        "print(frase.strip())"
      ],
      "metadata": {
        "id": "tHunjwuG8jNq",
        "colab": {
          "base_uri": "https://localhost:8080/"
        },
        "outputId": "33ff1ce6-1894-4724-9b13-68a44019a468"
      },
      "execution_count": null,
      "outputs": [
        {
          "output_type": "stream",
          "name": "stdout",
          "text": [
            "Digite sua frase:                   iza               \n",
            "iza\n"
          ]
        }
      ]
    },
    {
      "cell_type": "markdown",
      "source": [
        "#### Questão 7\n",
        "\n",
        "\n",
        "Crie um código que solicite uma frase à pessoa usuária e imprima a mesma frase sem espaços em branco no início e no fim e em letras minúsculas."
      ],
      "metadata": {
        "id": "eRxc2OeX8Nh2"
      }
    },
    {
      "cell_type": "code",
      "source": [
        "frase = input('D[]igite algo: ')\n",
        "print(frase.strip().lower())"
      ],
      "metadata": {
        "id": "DYm0_UwS8ih6",
        "colab": {
          "base_uri": "https://localhost:8080/"
        },
        "outputId": "6fa6234d-b472-471d-e8c7-cea6ab945ca4"
      },
      "execution_count": null,
      "outputs": [
        {
          "output_type": "stream",
          "name": "stdout",
          "text": [
            "Digite algo:                        IZA            \n",
            "iza\n"
          ]
        }
      ]
    },
    {
      "cell_type": "markdown",
      "source": [
        "#### Questão 8\n",
        "\n",
        "Crie um código que solicite uma frase à pessoa usuária e imprima a mesma frase com todas as vogais “`e`” trocadas pela letra “`f`”."
      ],
      "metadata": {
        "id": "UKATLavs8NfI"
      }
    },
    {
      "cell_type": "code",
      "source": [
        "frase = input('Digite algo que tenha a letra \"E\": ')\n",
        "print(frase.replace('e','f'))"
      ],
      "metadata": {
        "id": "k64C5G5S8iLO",
        "colab": {
          "base_uri": "https://localhost:8080/"
        },
        "outputId": "6b608c67-f966-469b-d581-7f54988ff64b"
      },
      "execution_count": null,
      "outputs": [
        {
          "output_type": "stream",
          "name": "stdout",
          "text": [
            "Digite algo: Meu nome é Izabela\n",
            "Mfu nomf é Izabfla\n"
          ]
        }
      ]
    },
    {
      "cell_type": "markdown",
      "source": [
        "#### Questão 9\n",
        "\n",
        "\n",
        "Crie um código que solicite uma frase à pessoa usuária e imprima a mesma frase com todas as vogais “`a`” trocadas pela caractere  “`@`”."
      ],
      "metadata": {
        "id": "n_1SPchw8NdG"
      }
    },
    {
      "cell_type": "code",
      "source": [
        "arroba = input('Digite uma frase que contenha a letra \"A\": ')\n",
        "print(arroba.replace('a', chr(64)))"
      ],
      "metadata": {
        "id": "msaDNm_p8h0D",
        "colab": {
          "base_uri": "https://localhost:8080/"
        },
        "outputId": "9c9eaffd-da02-485e-9b04-33af3348ab61"
      },
      "execution_count": null,
      "outputs": [
        {
          "output_type": "stream",
          "name": "stdout",
          "text": [
            "Digite uma frase que contenha a letra \"A\": Izabela\n",
            "Iz@bel@\n"
          ]
        }
      ]
    },
    {
      "cell_type": "markdown",
      "source": [
        "#### Questão 10\n",
        "\n",
        "\n",
        "Crie um código que solicite uma frase à pessoa usuária e imprima a mesma frase com todas as consoantes “`s`” trocadas pelo caractere  “`$`”."
      ],
      "metadata": {
        "id": "H3sTTjqI8Naa"
      }
    },
    {
      "cell_type": "code",
      "source": [
        "frase = input('Digite algo com a letra \"S\": ')\n",
        "print(frase.replace('s', chr(36)))"
      ],
      "metadata": {
        "id": "RPBIsWT68e-1",
        "colab": {
          "base_uri": "https://localhost:8080/"
        },
        "outputId": "4e81a92c-9d47-4086-9b3f-5330d6bcf02f"
      },
      "execution_count": null,
      "outputs": [
        {
          "output_type": "stream",
          "name": "stdout",
          "text": [
            "Digite algo com a letra \"S\": sanitá\n",
            "$anitá\n"
          ]
        }
      ]
    },
    {
      "cell_type": "markdown",
      "source": [
        "## Aula 3 - Estruturas condicionais"
      ],
      "metadata": {
        "id": "XGePe4GD2I59"
      }
    },
    {
      "cell_type": "markdown",
      "source": [
        "### Aquecendo na programação"
      ],
      "metadata": {
        "id": "Pr9HTW0UHCdD"
      }
    },
    {
      "cell_type": "markdown",
      "source": [
        "#### Questão 1\n",
        "Escreva um programa que peça à pessoa usuária para fornecer dois números e exibir o número maior."
      ],
      "metadata": {
        "id": "xBZHqhVg80Fy"
      }
    },
    {
      "cell_type": "code",
      "source": [
        "num1 = int(input('Digite o primeiro número: '))\n",
        "num2 = int(input('Digite o segundo número: '))\n",
        "if num1 > num2:\n",
        "  print(f'{num1} é maior')\n",
        "elif num1 < num2:\n",
        "  print(f'{num2} é maior')\n",
        "else:\n",
        "  print('São iguais')"
      ],
      "metadata": {
        "id": "GJlGnzjc-xyF",
        "colab": {
          "base_uri": "https://localhost:8080/"
        },
        "outputId": "921a0e77-9489-471c-8bfc-5a0e2ff4ee78"
      },
      "execution_count": null,
      "outputs": [
        {
          "output_type": "stream",
          "name": "stdout",
          "text": [
            "Digite o primeiro número: 55\n",
            "Digite o segundo número: 8\n",
            "55 é maior\n"
          ]
        }
      ]
    },
    {
      "cell_type": "markdown",
      "source": [
        "#### Questão 2\n",
        "Escreva um programa que solicite o percentual de crescimento de produção de uma empresa e informe se houve um crescimento (porcentagem positiva) ou decrescimento (porcentagem negativa)."
      ],
      "metadata": {
        "id": "H4sgN7dyHNJF"
      }
    },
    {
      "cell_type": "code",
      "source": [
        "per = float(input('Digite o percentual de crescimento de produção: '))\n",
        "\n",
        "if per > 0:\n",
        "  print(f'Houve um crescimento de {per}%')\n",
        "elif per < 0:\n",
        "  print(f'Houve um descrescimento de {per}%')\n",
        "else:\n",
        "  print('Não houve alteração')"
      ],
      "metadata": {
        "id": "-2_Ry5XJ-yZW",
        "colab": {
          "base_uri": "https://localhost:8080/"
        },
        "outputId": "9fb58a58-3eb7-4ba8-82f8-0026352ab3ae"
      },
      "execution_count": null,
      "outputs": [
        {
          "output_type": "stream",
          "name": "stdout",
          "text": [
            "Digite o percentual de crescimento de produção: -42.8\n",
            "Houve um descrescimento de -42.8%\n"
          ]
        }
      ]
    },
    {
      "cell_type": "markdown",
      "source": [
        "#### Questão 3\n",
        "Escreva um programa que determine se uma letra fornecida pela pessoa usuária é uma vogal ou consoante."
      ],
      "metadata": {
        "id": "a_mzNOBDHNny"
      }
    },
    {
      "cell_type": "code",
      "source": [
        "letra = input('Digite uma letra: ').lower()\n",
        "vogais = 'aeiou'\n",
        "\n",
        "if letra in vogais:\n",
        "  print(f'A letra \"{letra}\" é uma vogal')\n",
        "else:\n",
        "  print(f'A letra \"{letra}\" é uma consoante')"
      ],
      "metadata": {
        "id": "NbgndVyg-zFJ",
        "colab": {
          "base_uri": "https://localhost:8080/"
        },
        "outputId": "97041269-51b2-4654-a64d-c1badfe53e92"
      },
      "execution_count": null,
      "outputs": [
        {
          "output_type": "stream",
          "name": "stdout",
          "text": [
            "Digite uma letra: I\n",
            "A letra \"i\" é uma vogal\n"
          ]
        }
      ]
    },
    {
      "cell_type": "markdown",
      "source": [
        "#### Questão 4\n",
        "Escreva um programa que leia valores médios de preços de um modelo de carro por 3 anos consecutivos e exiba o valor mais alto e mais baixo entre esses três anos."
      ],
      "metadata": {
        "id": "mofMRjSZHP99"
      }
    },
    {
      "cell_type": "code",
      "source": [
        "valor1 = float(input('Digite o valor do carro no primeiro ano: '))\n",
        "valor2 = float(input('Digite o valor do carro no segundo ano: '))\n",
        "valor3 = float(input('Digite o valor do carro no terceiro ano: '))\n",
        "\n",
        "maior = valor1\n",
        "if valor2 > maior:\n",
        "  maior = valor2\n",
        "if valor3 > maior:\n",
        "  maior = valor3\n",
        "\n",
        "menor = valor1\n",
        "if valor2 < menor:\n",
        "  menor = valor2\n",
        "if valor3 < menor:\n",
        "  menor = valor3\n",
        "\n",
        "print(f'O maior valor é {maior}')\n",
        "print(f'O menor valor é {menor}')"
      ],
      "metadata": {
        "id": "TX--d3k9-02c",
        "colab": {
          "base_uri": "https://localhost:8080/"
        },
        "outputId": "91fc4e33-4e90-4cb4-8593-051977041a30"
      },
      "execution_count": null,
      "outputs": [
        {
          "output_type": "stream",
          "name": "stdout",
          "text": [
            "Digite o valor do carro no primeiro ano: 5614\n",
            "Digite o valor do carro no segundo ano: 65149\n",
            "Digite o valor do carro no terceiro ano: 16684\n",
            "O maior valor é 65149.0\n",
            "O menor valor é 5614.0\n"
          ]
        }
      ]
    },
    {
      "cell_type": "markdown",
      "source": [
        "#### Questão 5\n",
        "Escreva um programa que pergunte sobre o preço de três produtos e indique qual é o produto mais barato para comprar."
      ],
      "metadata": {
        "id": "jY5tIwd-HQzc"
      }
    },
    {
      "cell_type": "code",
      "source": [
        "p1 = float(input('Qual o preço do primeiro produto? '))\n",
        "p2 = float(input('Qual o preço do segundo produto? '))\n",
        "p3 = float(input('Qual o preço do terceiro produto? '))\n",
        "\n",
        "if p1 < p2 and p1 < p3:\n",
        "  print('O primeiro produto é mais barato')\n",
        "elif p2 < p1 and p2 < p3:\n",
        "  print(' O segundo produto é mais barato')\n",
        "elif p3 < p1 and p3 < p2:\n",
        "  print('O terceiro produto é mais barato')\n",
        "elif p1 == p2 == p3:\n",
        "  print('Os três produtos possuem o mesmo valor')\n",
        "else:\n",
        "  if p1 == p2:\n",
        "    print('O primeiro e segundo produto são os mais baratos')\n",
        "  elif p1 == p3:\n",
        "    print('O primeiro e o terceiro produto são os mais baratos')\n",
        "  elif p2 == p3:\n",
        "    print('O segundo e o terceiro produto são os mais baratos')"
      ],
      "metadata": {
        "id": "sYqNh9df-0gk",
        "colab": {
          "base_uri": "https://localhost:8080/"
        },
        "outputId": "16fc47ca-1e50-47c8-89c7-b8af00c4e2b2"
      },
      "execution_count": null,
      "outputs": [
        {
          "output_type": "stream",
          "name": "stdout",
          "text": [
            "Qual o preço do primeiro produto? 3\n",
            "Qual o preço do segundo produto? 1\n",
            "Qual o preço do terceiro produto? 1\n",
            "O segundo e o terceiro produto são os mais baratos\n"
          ]
        }
      ]
    },
    {
      "cell_type": "markdown",
      "source": [
        "#### Questão 6\n",
        "Escreva um programa que leia três números e os exiba em ordem decrescente."
      ],
      "metadata": {
        "id": "1r6aVxtTHR4E"
      }
    },
    {
      "cell_type": "code",
      "source": [
        "num1 = int(input('Digite um número: '))\n",
        "num2 = int(input('Digite um número: '))\n",
        "num3 = int(input('Digite um número: '))\n",
        "\n",
        "if num1 >= num2 and num1 >= num3:\n",
        "  print(num1)\n",
        "  if num2 >= num3:\n",
        "    print(num2)\n",
        "    print(num3)\n",
        "  else:\n",
        "    print(num3)\n",
        "    print(num2)\n",
        "elif num2 >= num1 and num2 >= num3:\n",
        "  print(num2)\n",
        "  if num1 >= num3:\n",
        "    print(num1)\n",
        "    print(num3)\n",
        "  else:\n",
        "    print(num3)\n",
        "    print(num1)\n",
        "else:\n",
        "  print(num3)\n",
        "  if num1 >= num2:\n",
        "    print(num1)\n",
        "    print(num2)\n",
        "  else:\n",
        "    print(num2)\n",
        "    print(num1)"
      ],
      "metadata": {
        "id": "ydOCYUMO-0Hk",
        "colab": {
          "base_uri": "https://localhost:8080/"
        },
        "outputId": "1e4011ce-90a8-4958-c4cf-70300adbc16e"
      },
      "execution_count": null,
      "outputs": [
        {
          "output_type": "stream",
          "name": "stdout",
          "text": [
            "Digite um número: 89\n",
            "Digite um número: 456\n",
            "Digite um número: 4\n",
            "456\n",
            "89\n",
            "4\n"
          ]
        }
      ]
    },
    {
      "cell_type": "markdown",
      "source": [
        "#### Questão 7\n",
        "Escreva um programa que pergunte em qual turno a pessoa usuária estuda (\"manhã\", \"tarde\" ou \"noite\") e exiba a mensagem \"Bom Dia!\", \"Boa Tarde!\", \"Boa Noite!\", ou \"Valor Inválido!\", conforme o caso."
      ],
      "metadata": {
        "id": "inW3F-hAHS_X"
      }
    },
    {
      "cell_type": "code",
      "source": [
        "turno = input('Em qual turno você estuda? ').lower()\n",
        "manha = ['manhã', 'matutino', 'manha']\n",
        "tarde = ['tarde', 'vespertino']\n",
        "noite = ['noite', 'noturno']\n",
        "\n",
        "if turno in manha:\n",
        "  print('Bom Dia!')\n",
        "elif turno in tarde:\n",
        "  print('Boa Tarde!')\n",
        "elif turno in noite:\n",
        "  print('Boa Noite!')\n",
        "else:\n",
        "  print('Valor Inválido!')"
      ],
      "metadata": {
        "id": "-_q-Pcr_-zth",
        "colab": {
          "base_uri": "https://localhost:8080/"
        },
        "outputId": "8d7cfcd3-586c-4889-bc6e-43fe0a059de4"
      },
      "execution_count": null,
      "outputs": [
        {
          "output_type": "stream",
          "name": "stdout",
          "text": [
            "Em qual turno você estuda? Manha\n",
            "Bom Dia!\n"
          ]
        }
      ]
    },
    {
      "cell_type": "markdown",
      "source": [
        "#### Questão 8\n",
        "Escreva um programa que peça um número inteiro à pessoa usuária e determine se ele é par ou ímpar. Dica: Você pode utilizar o operador módulo `%`."
      ],
      "metadata": {
        "id": "NCCPF3QqHTw-"
      }
    },
    {
      "cell_type": "code",
      "source": [
        "num = int(input('Digite um número inteiro: '))\n",
        "\n",
        "if (num % 2) == 0:\n",
        "  print(f'O número {num} é par')\n",
        "else:\n",
        "  print(f'O número {num} é ímpar')"
      ],
      "metadata": {
        "id": "OmZJt1nQ-3e6",
        "colab": {
          "base_uri": "https://localhost:8080/"
        },
        "outputId": "b1a4f6a3-4ae6-4599-af81-737f87df29ef"
      },
      "execution_count": null,
      "outputs": [
        {
          "output_type": "stream",
          "name": "stdout",
          "text": [
            "Digite um número inteiro: 3\n",
            "O número 3 é ímpar\n"
          ]
        }
      ]
    },
    {
      "cell_type": "markdown",
      "source": [
        "#### Questão 9\n",
        "Escreva um programa que peça um número à pessoa usuária e informe se ele é inteiro ou decimal."
      ],
      "metadata": {
        "id": "h93Ck1tQHUwE"
      }
    },
    {
      "cell_type": "code",
      "source": [
        "num = float(input('Digite um número inteiro ou decimal: '))\n",
        "\n",
        "if num % 1 == 0:\n",
        "  print('O número é inteiro')\n",
        "else:\n",
        "  print('O número é decimal')"
      ],
      "metadata": {
        "id": "sLMlZcx8-20N",
        "colab": {
          "base_uri": "https://localhost:8080/"
        },
        "outputId": "d1b3be62-d62d-4029-a32a-49c8a0baa792"
      },
      "execution_count": null,
      "outputs": [
        {
          "output_type": "stream",
          "name": "stdout",
          "text": [
            "Digite um número inteiro ou decimal: 5.6\n",
            "O número é decimal\n"
          ]
        }
      ]
    },
    {
      "cell_type": "markdown",
      "source": [
        "### Momento dos projetos"
      ],
      "metadata": {
        "id": "bKdXSK1SH_pF"
      }
    },
    {
      "cell_type": "markdown",
      "source": [
        "#### Questão 10\n",
        "Um programa deve ser escrito para ler dois números e, em seguida, perguntar à pessoa usuária qual operação ele deseja realizar. O resultado da operação deve incluir informações sobre o número - se é par ou ímpar, positivo ou negativo e inteiro ou decimal."
      ],
      "metadata": {
        "id": "WBlEyyzsHV86"
      }
    },
    {
      "cell_type": "code",
      "source": [
        "num1 = float(input('Digite o primeiro número: '))\n",
        "num2 = float(input('Digite o segundo número: '))\n",
        "op = input('Qual operação deseja realizar? (tente soma, subtração, divisão, multiplicação ou exponenciação): ').lower()\n",
        "resultado = num1 + num2\n",
        "\n",
        "if op == 'soma':\n",
        "  print(f'O resultado é {resultado}')\n",
        "elif op == 'subtração':\n",
        "  resultado = num1 - num2\n",
        "  print(f'O resultado é {resultado}')\n",
        "elif op == 'multiplicação':\n",
        "  resultado = num1 * num2\n",
        "  print(f'O resultado é {resultado}')\n",
        "elif op == 'divisão':\n",
        "  resultado = num1 / num2\n",
        "  print(f'O resultado é {resultado}')\n",
        "elif op == 'exponenciação':\n",
        "  resultado = num1 ** num2\n",
        "  print(f'O resultado é {resultado}')\n",
        "else:\n",
        "  resultado = 0\n",
        "  print('Operação inválida! O resultado será igual a 0')\n",
        "\n",
        "if resultado % 2 == 0:\n",
        "  print('É par')\n",
        "else:\n",
        "  print('É ímpar')\n",
        "\n",
        "if resultado >= 0:\n",
        "  print('É positivo')\n",
        "else:\n",
        "  print('É negativo')\n",
        "\n",
        "if resultado % 1 == 0:\n",
        "  print('É inteiro')\n",
        "else:\n",
        "  print('É decimal')"
      ],
      "metadata": {
        "id": "3jmahZ0f-2gq",
        "colab": {
          "base_uri": "https://localhost:8080/"
        },
        "outputId": "9244c9a4-9c00-429c-f51a-33eb1812d4a8"
      },
      "execution_count": null,
      "outputs": [
        {
          "output_type": "stream",
          "name": "stdout",
          "text": [
            "Digite o primeiro número: 5\n",
            "Digite o segundo número: 6\n",
            "Qual operação deseja realizar? (tente soma, subtração, divisão, multiplicação ou exponenciação): fa\n",
            "Operação inválida! O resultado será igual a 0\n",
            "É par\n",
            "É positivo\n",
            "É inteiro\n"
          ]
        }
      ]
    },
    {
      "cell_type": "markdown",
      "source": [
        "#### Questão 11\n",
        "Escreva um programa que peça à pessoa usuária três números que representam os lados de um triângulo. O programa deve informar se os valores podem ser utilizados para formar um triângulo e, caso afirmativo, se ele é equilátero, isósceles ou escaleno. Tenha em mente algumas dicas:\n",
        "- Três lados formam um triângulo quando a soma de quaisquer dois lados for maior que o terceiro;\n",
        "- Triângulo Equilátero: três lados iguais;\n",
        "- Triângulo Isósceles: quaisquer dois lados iguais;\n",
        "- Triângulo Escaleno: três lados diferentes;\n"
      ],
      "metadata": {
        "id": "VdnlULxHHW19"
      }
    },
    {
      "cell_type": "code",
      "source": [
        "l1 = int(input('Digite o valor do primeiro lado: '))\n",
        "l2 = int(input('Digite o valor do segundo lado: '))\n",
        "l3 = int(input('Digite o valor do terceiro lado: '))\n",
        "\n",
        "if (l1 + l2) > l3 or (l1 + l3) > l2 or (l2 + l3) > l1:\n",
        "  print('Valor válido!')\n",
        "\n",
        "  if l1 == l2 == l3:\n",
        "    print('É um triângulo equilátero')\n",
        "  elif l1 == l2 or l1 == l3 or l2 ==l3:\n",
        "    print('É um triângulo isósceles')\n",
        "  elif l1 != l2 != l3:\n",
        "    print('É um triângulo escaleno')\n",
        "else:\n",
        "  print('Valor inválido!')"
      ],
      "metadata": {
        "id": "0z73sqUO-2Pw",
        "colab": {
          "base_uri": "https://localhost:8080/"
        },
        "outputId": "0e6d1649-0595-4f86-f390-20503702e517"
      },
      "execution_count": null,
      "outputs": [
        {
          "output_type": "stream",
          "name": "stdout",
          "text": [
            "Digite o valor do primeiro lado: 5486\n",
            "Digite o valor do segundo lado: 4\n",
            "Digite o valor do terceiro lado: 68\n",
            "Valor válido!\n",
            "É um triângulo escaleno\n"
          ]
        }
      ]
    },
    {
      "cell_type": "markdown",
      "source": [
        "#### Questão 12\n",
        "Um estabelecimento está vendendo combustíveis com descontos variados. Para o etanol, se a quantidade comprada for até 15 litros, o desconto será de 2% por litro. Caso contrário, será de 4% por litro. Para o diesel, se a quantidade comprada for até 15 litros, o desconto será de 3% por litro. Caso contrário, será de 5% por litro. O preço do litro de diesel é R\\$ 2,00 e o preço do litro de etanol é R\\$ 1,70. Escreva um programa que leia a quantidade de litros vendidos e o tipo de combustível (E para etanol e D para diesel) e calcule o valor a ser pago pelo cliente. Tenha em mente algumas dicas:\n",
        "\n",
        "- O do valor do desconto será a multiplicação entre preço do litro, quantidade de litros e o valor do desconto.\n",
        "- O valor a ser pago por um cliente será o resultado da multiplicação do preço do litro pela quantidade de litros menos o valor de desconto resultante do cálculo.\n"
      ],
      "metadata": {
        "id": "_PpEpOugHXwZ"
      }
    },
    {
      "cell_type": "code",
      "source": [
        "tipo = input('Qual o tipo de combustível que deseja aplicar (\"E\" para etanol e \"D\" para diesel): ').upper()\n",
        "litros = int(input('Quantos litros deseja aplicar: '))\n",
        "valor_pago = 0\n",
        "diesel = 2\n",
        "etanol = 1.7\n",
        "\n",
        "if tipo == 'E':\n",
        "  if litros > 0 and litros < 15:\n",
        "    valor_pago = (etanol * litros) - (etanol * litros * 0.02)\n",
        "    print(f'O valor a ser pago é de R${valor_pago}')\n",
        "  elif litros >= 15:\n",
        "    valor_pago = (etanol * litros) - (etanol * litros * 0.04)\n",
        "    print(f'O valor a ser pago é de R${valor_pago}')\n",
        "  else:\n",
        "    print('Veio aqui pra quê?')\n",
        "elif tipo == 'D':\n",
        "  if litros > 0 and litros < 15:\n",
        "    valor_pago = (diesel * litros) - (diesel * litros * 0.03)\n",
        "    print(f'O valor a ser pago é de R${valor_pago}')\n",
        "  elif litros >= 15:\n",
        "    valor_pago = (diesel * litros) - (diesel * litros * 0.05)\n",
        "    print(f'O valor a ser pago é de R${valor_pago}')\n",
        "  else:\n",
        "    print('Veio aqui pra quê?')\n",
        "else:\n",
        "  print('Não temos essa opção.')\n"
      ],
      "metadata": {
        "id": "9izoF-0O-1yD",
        "colab": {
          "base_uri": "https://localhost:8080/"
        },
        "outputId": "3a3a3d9a-5b00-4477-c7e5-b56d778d3a8a"
      },
      "execution_count": null,
      "outputs": [
        {
          "output_type": "stream",
          "name": "stdout",
          "text": [
            "Qual o tipo de combustível que deseja aplicar (\"E\" para etanol e \"D\" para diesel): d\n",
            "Quantos litros deseja aplicar: 20\n",
            "O valor a ser pago é de R$38.0\n"
          ]
        }
      ]
    },
    {
      "cell_type": "markdown",
      "source": [
        "#### Questão 13\n",
        "Em uma empresa de venda de imóveis você precisa criar um código que analise os dados de vendas anuais para ajudar a diretoria na tomada de decisão. O código precisa coletar os dados de quantidade de venda durante os anos de 2022 e 2023 e fazer um cálculo de variação percentual. A partir do valor da variação, deve ser enviada às seguintes sugestões:\n",
        "- Para variação acima de 20%: bonificação para o time de vendas.\n",
        "- Para variação entre 2% e 20%: pequena bonificação para time de vendas.\n",
        "- Para variação entre 2% e -10%: planejamento de políticas de incentivo às vendas.\n",
        "- Para bonificações abaixo de -10%: corte de gastos.\n"
      ],
      "metadata": {
        "id": "s_XS_D1WHY2R"
      }
    },
    {
      "cell_type": "code",
      "source": [
        "vendas22 = float(input('Quantidade de vendas no ano de 2022: '))\n",
        "vendas23 = float(input('Quantidade de vendas no ano de 2023: '))\n",
        "variacao = vendas23 - vendas22\n",
        "variacao = (variacao * 100) / vendas22\n",
        "\n",
        "if variacao > 20:\n",
        "  print('O time de vendas terá uma bonificação!')\n",
        "elif variacao > 2 and variacao >= 20:\n",
        "  print('O time de vendas terá uma pequena bonificação!')\n",
        "elif variacao > -10 and variacao <= 2:\n",
        "  print('Teremos um planejamento de políticas de incentivo às vendas.')\n",
        "else:\n",
        "  print('Teremos corte de gastos!')"
      ],
      "metadata": {
        "id": "avQrYlUg-w8f",
        "colab": {
          "base_uri": "https://localhost:8080/"
        },
        "outputId": "340a80bd-ba7c-488b-9f1a-3ddcab45db0b"
      },
      "execution_count": null,
      "outputs": [
        {
          "output_type": "stream",
          "name": "stdout",
          "text": [
            "Quantidade de vendas no ano de 2022: 120\n",
            "Quantidade de vendas no ano de 2023: 2\n",
            "Teremos corte de gastos!\n"
          ]
        }
      ]
    },
    {
      "cell_type": "markdown",
      "source": [
        "## Aula 4 - Estruturas de repetição"
      ],
      "metadata": {
        "id": "AuaWh4-d2Itt"
      }
    },
    {
      "cell_type": "markdown",
      "source": [
        "### Aquecendo na programação"
      ],
      "metadata": {
        "id": "6MSqU0sIJRdD"
      }
    },
    {
      "cell_type": "markdown",
      "source": [
        "#### Questão 1\n",
        "Escreva um programa que peça dois números inteiros e imprima todos os números inteiros entre eles."
      ],
      "metadata": {
        "id": "9eGGyCnAJRdQ"
      }
    },
    {
      "cell_type": "code",
      "source": [
        "num1 = int(input('Digite o primeiro número: '))\n",
        "num2 = int(input('Digite o segundo número: '))\n",
        "\n",
        "if num1 < num2:\n",
        "  for i in range(num1 + 1, num2):\n",
        "    print(i)\n",
        "elif num1 > num2:\n",
        "  for i in range(num2 + 1, num1):\n",
        "    print(i)\n",
        "else:\n",
        "  print('Os números são iguais!')"
      ],
      "metadata": {
        "id": "ID1oc1hxJRdQ",
        "colab": {
          "base_uri": "https://localhost:8080/"
        },
        "outputId": "f99f0442-2523-4d0e-960b-1f6475f7a831"
      },
      "execution_count": null,
      "outputs": [
        {
          "output_type": "stream",
          "name": "stdout",
          "text": [
            "Digite o primeiro número: 10\n",
            "Digite o segundo número: 2\n",
            "3\n",
            "4\n",
            "5\n",
            "6\n",
            "7\n",
            "8\n",
            "9\n"
          ]
        }
      ]
    },
    {
      "cell_type": "markdown",
      "source": [
        "#### Questão 2\n",
        "Escreva um programa para calcular quantos dias levará para a colônia de uma bactéria A ultrapassar ou igualar a colônia de uma bactéria B, com base nas taxas de crescimento de 3% e 1,5% respectivamente. Considere que a colônia A inicia com 4 elementos e a colônia B com 10 elementos."
      ],
      "metadata": {
        "id": "mGonEHYCJRdR"
      }
    },
    {
      "cell_type": "code",
      "source": [
        "bacteria_a = 4\n",
        "bacteria_b = 10\n",
        "dias = 0\n",
        "\n",
        "while bacteria_b > bacteria_a:\n",
        "  bacteria_a *= 1 + 0.03\n",
        "  bacteria_b *= 1 + 0.015\n",
        "  dias +=1\n",
        "print(f'A bactéria A levou {dias} dias para ultrapassar ou igualar a bactéria B')"
      ],
      "metadata": {
        "id": "wM6FJuoqJRdR",
        "colab": {
          "base_uri": "https://localhost:8080/"
        },
        "outputId": "3f552d1f-260f-448e-c3bc-a198805088eb"
      },
      "execution_count": null,
      "outputs": [
        {
          "output_type": "stream",
          "name": "stdout",
          "text": [
            "A bactéria A levou 63 dias para ultrapassar ou igualar a bactéria B\n"
          ]
        }
      ]
    },
    {
      "cell_type": "markdown",
      "source": [
        "#### Questão 3\n",
        "Para tratar uma quantidade de 15 dados de avaliações de pessoas usuárias de um serviço da empresa, precisamos verificar se as notas são válidas. Então, escreva um programa que vai receber a nota de 0 a 5 de todos os dados e verificar se é um valor válido. Caso seja inserido uma nota acima de 5 ou abaixo de 0, repita até que a pessoa usuária insira um valor válido."
      ],
      "metadata": {
        "id": "UiOZRlqoJRdR"
      }
    },
    {
      "cell_type": "code",
      "source": [
        "for i in range(15):\n",
        "  avaliacao = float(input(f'Usuário {i}, insira sua nota de 0 a 5: '))\n",
        "  while avaliacao < 0 or avaliacao > 5:\n",
        "    avaliacao = float(input('Nota inválida!Tente novamente com uma nota entre 0 e 5: '))\n",
        "print('Tudo certo! Notas válidas.')"
      ],
      "metadata": {
        "id": "3TUAhCxcJRdR",
        "colab": {
          "base_uri": "https://localhost:8080/"
        },
        "outputId": "2a51aa96-2f0e-459e-9035-42c03262066d"
      },
      "execution_count": null,
      "outputs": [
        {
          "output_type": "stream",
          "name": "stdout",
          "text": [
            "Usuário 0, insira sua nota de 0 a 5: 1\n",
            "Usuário 1, insira sua nota de 0 a 5: 1\n",
            "Usuário 2, insira sua nota de 0 a 5: 1\n",
            "Usuário 3, insira sua nota de 0 a 5: 10\n",
            "Nota inválida!Tente novamente com uma nota entre 0 e 5: 2\n",
            "Usuário 4, insira sua nota de 0 a 5: 2\n",
            "Usuário 5, insira sua nota de 0 a 5: 2\n",
            "Usuário 6, insira sua nota de 0 a 5: 2\n",
            "Usuário 7, insira sua nota de 0 a 5: 2\n",
            "Usuário 8, insira sua nota de 0 a 5: 2\n",
            "Usuário 9, insira sua nota de 0 a 5: 2\n",
            "Usuário 10, insira sua nota de 0 a 5: 2\n",
            "Usuário 11, insira sua nota de 0 a 5: 2\n",
            "Usuário 12, insira sua nota de 0 a 5: 2\n",
            "Usuário 13, insira sua nota de 0 a 5: 2\n",
            "Usuário 14, insira sua nota de 0 a 5: 2\n",
            "Tudo certo! Notas válidas.\n"
          ]
        }
      ]
    },
    {
      "cell_type": "markdown",
      "source": [
        "#### Questão 4\n",
        "Desenvolva um programa que leia um conjunto indeterminado de temperaturas em Celsius e faça uma análise. Portanto, escreva um programa que leia temperaturas e informe a média delas. A leitura deve ser encerrada ao ser enviado o valor -273°C."
      ],
      "metadata": {
        "id": "ABv3KObGJRdR"
      }
    },
    {
      "cell_type": "code",
      "source": [
        "temperatura = float(input('Digite a temperatura em Celsius: '))\n",
        "\n",
        "contadora = 0\n",
        "soma = 0\n",
        "\n",
        "while temperatura != -273:\n",
        "  soma += temperatura\n",
        "  contadora += 1\n",
        "  temperatura = float(input('Digite a temperatura em Celsius: '))\n",
        "\n",
        "media = soma/contadora\n",
        "print(f'A média das temperaturas é {media}')"
      ],
      "metadata": {
        "id": "85tBBj5KJRdS",
        "colab": {
          "base_uri": "https://localhost:8080/"
        },
        "outputId": "7c0815e0-44f2-49a3-e8a4-6a82d26cea02"
      },
      "execution_count": null,
      "outputs": [
        {
          "output_type": "stream",
          "name": "stdout",
          "text": [
            "Digite a temperatura em Celsius: 2\n",
            "Digite a temperatura em Celsius: 5\n",
            "Digite a temperatura em Celsius: 6\n",
            "Digite a temperatura em Celsius: -273\n",
            "A média das temperaturas é 4.333333333333333\n"
          ]
        }
      ]
    },
    {
      "cell_type": "markdown",
      "source": [
        "#### Questão 5\n",
        "Escreva um programa que calcule o fatorial de um número inteiro fornecido pela pessoa usuária. O fatorial de um número inteiro é a multiplicação desse número por todos os seus antecessores até o número 1. Por exemplo, o fatorial de 5 é 5 x 4 x 3 x 2 x 1 = 120."
      ],
      "metadata": {
        "id": "IjkbAfGcJRdS"
      }
    },
    {
      "cell_type": "code",
      "source": [
        "num = int(input('Digite um número inteiro: '))\n",
        "\n",
        "i = num - 1\n",
        "\n",
        "while i > 1:\n",
        "    num = num * i\n",
        "    i -= 1\n",
        "print(f'O fatorial é {num}')"
      ],
      "metadata": {
        "id": "7RTH8o0HJRdS",
        "colab": {
          "base_uri": "https://localhost:8080/"
        },
        "outputId": "e13ada15-604f-4e61-d931-16749c49246c"
      },
      "execution_count": null,
      "outputs": [
        {
          "output_type": "stream",
          "name": "stdout",
          "text": [
            "Digite um número inteiro: 5\n",
            "O fatorial é 120\n"
          ]
        }
      ]
    },
    {
      "cell_type": "markdown",
      "source": [
        "### Momento dos projetos"
      ],
      "metadata": {
        "id": "oGNKuQjsJRdT"
      }
    },
    {
      "cell_type": "markdown",
      "source": [
        "#### Questão 6\n",
        "Escreva um programa que gere a tabuada de um número inteiro de 1 a 10, de acordo com a escolha da pessoa usuária. Como exemplo, para o número 2, a tabuada deve ser mostrada no seguinte formato:\n",
        "```\n",
        "Tabuada do 2:\n",
        "2 x 1 = 2\n",
        "2 x 2 = 4\n",
        "[...]\n",
        "2 x 10 = 20\n",
        "```"
      ],
      "metadata": {
        "id": "ODxaTUYmJRdS"
      }
    },
    {
      "cell_type": "code",
      "source": [
        "num = int(input('Digite um número inteiro: '))\n",
        "\n",
        "print(f'Tabuada do {num}:')\n",
        "for tabuada in range (1,11):\n",
        "  print(f'{num} x {tabuada} = {(num * tabuada)}')\n",
        "  tabuada += 1"
      ],
      "metadata": {
        "id": "lkTlbxPIJRdS",
        "colab": {
          "base_uri": "https://localhost:8080/"
        },
        "outputId": "07d558bd-2e5d-4a07-eaf6-4028505659bb"
      },
      "execution_count": null,
      "outputs": [
        {
          "output_type": "stream",
          "name": "stdout",
          "text": [
            "Digite um número inteiro: 5\n",
            "Tabuada do 5:\n",
            "5 x 1 = 5\n",
            "5 x 2 = 10\n",
            "5 x 3 = 15\n",
            "5 x 4 = 20\n",
            "5 x 5 = 25\n",
            "5 x 6 = 30\n",
            "5 x 7 = 35\n",
            "5 x 8 = 40\n",
            "5 x 9 = 45\n",
            "5 x 10 = 50\n"
          ]
        }
      ]
    },
    {
      "cell_type": "markdown",
      "source": [
        "#### Questão 7\n",
        "Os números primos possuem várias aplicações dentro da Ciência de Dados, por exemplo, na criptografia e segurança. Um número primo é aquele que é divisível apenas por um e por ele mesmo. Faça um programa que peça um número inteiro e determine se ele é ou não um número primo."
      ],
      "metadata": {
        "id": "LeIbnt8VJRdS"
      }
    },
    {
      "cell_type": "code",
      "source": [
        "num = int(input('Digite um número inteiro: '))\n",
        "\n",
        "primo = True\n",
        "\n",
        "if num <= 1:\n",
        "  primo = False\n",
        "else:\n",
        "  for i in range (2,num):\n",
        "    if num % i == 0:\n",
        "      primo = False\n",
        "      break\n",
        "if primo:\n",
        "  print(f'O número {num} é primo')\n",
        "else:\n",
        "  print(f'O número {num} não é primo')"
      ],
      "metadata": {
        "id": "2rcNU7twJRdS",
        "colab": {
          "base_uri": "https://localhost:8080/"
        },
        "outputId": "ee4b2210-f787-4b0b-fd6f-6d7c922799da"
      },
      "execution_count": null,
      "outputs": [
        {
          "output_type": "stream",
          "name": "stdout",
          "text": [
            "Digite um número inteiro: 17\n",
            "O número 17 é primo\n"
          ]
        }
      ]
    },
    {
      "cell_type": "markdown",
      "source": [
        "#### Questão 8\n",
        "Vamos entender a distribuição de idades de pensionistas de uma empresa de previdência. Escreva um programa que leia as idades de uma quantidade não informada de clientes e mostre a distribuição em intervalos de [0-25], [26-50], [51-75] e [76-100]. Encerre a entrada de dados com um número negativo."
      ],
      "metadata": {
        "id": "QTwb6QaCJRdT"
      }
    },
    {
      "cell_type": "code",
      "source": [
        "idade = int(input('Digite sua idade: '))\n",
        "primeiroIntervalo = 0\n",
        "segundoIntervalo = 0\n",
        "terceiroIntervalo = 0\n",
        "quartoIntervalo = 0\n",
        "\n",
        "while idade <= 100:\n",
        "  if idade >= 0 and idade <=25:\n",
        "    primeiroIntervalo += 1\n",
        "  elif idade >= 26 and idade <= 50:\n",
        "    segundoIntervalo += 1\n",
        "  elif idade >= 51 and idade <= 75:\n",
        "    terceiroIntervalo += 1\n",
        "  elif idade >= 76 and idade <= 100:\n",
        "    quartoIntervalo += 1\n",
        "  else:\n",
        "    break\n",
        "  idade = int(input('Digite sua idade:'))\n",
        "if idade > 100:\n",
        "  print('Idade inválida')\n",
        "\n",
        "print(f'Distribuição das idades em intervalos:\\n[0-25]: {primeiroIntervalo}\\n[26-50]: {segundoIntervalo}\\n[51-75]: {terceiroIntervalo}\\n[76-100]: {quartoIntervalo}')\n",
        "\n"
      ],
      "metadata": {
        "id": "4IAhaDmYJRdT",
        "colab": {
          "base_uri": "https://localhost:8080/"
        },
        "outputId": "9b0adbee-2a40-4a4b-e9c1-221c9adac15e"
      },
      "execution_count": null,
      "outputs": [
        {
          "output_type": "stream",
          "name": "stdout",
          "text": [
            "Digite sua idade: 15\n",
            "Digite sua idade:65\n",
            "Digite sua idade:95\n",
            "Digite sua idade:42\n",
            "Digite sua idade:6\n",
            "Digite sua idade:8\n",
            "Digite sua idade:41\n",
            "Digite sua idade:-1\n",
            "Distribuição das idades em intervalos:\n",
            "[0-25]: 3\n",
            "[26-50]: 2\n",
            "[51-75]: 1\n",
            "[76-100]: 1\n"
          ]
        }
      ]
    },
    {
      "cell_type": "markdown",
      "source": [
        "#### Questão 9\n",
        "Em uma eleição para gerência em uma empresa com 20 funcionários, existem quatro candidatos. Escreva um programa que calcule o vencedor da eleição. A votação ocorreu da seguinte maneira:\n",
        "- Cada funcionário votou em um dos quatro candidatos (representados pelos números 1, 2, 3 e 4).\n",
        "- Também foram contabilizados os votos nulos (representado pelo número 5) e os votos em branco (representado pelo número 6).\n",
        "\n",
        "Ao final da votação, o programa deve exibir o total de votos para cada candidato, o número de votos nulos e o número de votos em branco. Além disso, deve calcular e exibir a porcentagem de votos nulos em relação ao total de votos e a porcentagem de votos em branco em relação ao total de votos."
      ],
      "metadata": {
        "id": "soJCQVwRJRdT"
      }
    },
    {
      "cell_type": "code",
      "source": [
        "candidato1 = 0\n",
        "candidato2 = 0\n",
        "candidato3 = 0\n",
        "candidato4 = 0\n",
        "nulo = 0\n",
        "branco = 0\n",
        "\n",
        "for i in range(1, 21):\n",
        "  voto = int(input(f'Funcionário {i}, digite sua opção (1, 2, 3 e 4 para os respectivos candidatos, 5 para votar nulo e 6 para votar em branco): '))\n",
        "  if voto == 1:\n",
        "    candidato1 += 1\n",
        "  elif voto == 2:\n",
        "    candidato2 += 1\n",
        "  elif voto == 3:\n",
        "    candidato3 +=1\n",
        "  elif voto == 4:\n",
        "    candidato4 += 1\n",
        "  elif voto == 5:\n",
        "    nulo += 1\n",
        "  elif voto == 6:\n",
        "    branco += 1\n",
        "  else:\n",
        "    print('Voto inválido!')\n",
        "\n",
        "print(f'Total:\\nCandidato 1: {candidato1}\\nCandidato 2: {candidato2}\\nCandidato 3 : {candidato3}\\nCandidato 4: {candidato4}\\nVotos Nulos: {nulo}\\nVotos em Branco: {branco}')\n",
        "print(f'Percentual de votos nulos: {(nulo / 20 * 100)}')\n",
        "print(f'Percentual de votos em branco: {(branco / 20 * 100)}')\n"
      ],
      "metadata": {
        "id": "041EFrgG-4gR",
        "colab": {
          "base_uri": "https://localhost:8080/"
        },
        "outputId": "92008869-5224-4372-d740-488f1462f756"
      },
      "execution_count": null,
      "outputs": [
        {
          "output_type": "stream",
          "name": "stdout",
          "text": [
            "Funcionário 1, digite sua opção (1, 2, 3 e 4 para os respectivos candidatos, 5 para votar nulo e 6 para votar em branco): 5\n",
            "Funcionário 2, digite sua opção (1, 2, 3 e 4 para os respectivos candidatos, 5 para votar nulo e 6 para votar em branco): 5\n",
            "Funcionário 3, digite sua opção (1, 2, 3 e 4 para os respectivos candidatos, 5 para votar nulo e 6 para votar em branco): 6\n",
            "Funcionário 4, digite sua opção (1, 2, 3 e 4 para os respectivos candidatos, 5 para votar nulo e 6 para votar em branco): 6\n",
            "Funcionário 5, digite sua opção (1, 2, 3 e 4 para os respectivos candidatos, 5 para votar nulo e 6 para votar em branco): 1\n",
            "Funcionário 6, digite sua opção (1, 2, 3 e 4 para os respectivos candidatos, 5 para votar nulo e 6 para votar em branco): 2\n",
            "Funcionário 7, digite sua opção (1, 2, 3 e 4 para os respectivos candidatos, 5 para votar nulo e 6 para votar em branco): 3\n",
            "Funcionário 8, digite sua opção (1, 2, 3 e 4 para os respectivos candidatos, 5 para votar nulo e 6 para votar em branco): 4\n",
            "Funcionário 9, digite sua opção (1, 2, 3 e 4 para os respectivos candidatos, 5 para votar nulo e 6 para votar em branco): 4\n",
            "Funcionário 10, digite sua opção (1, 2, 3 e 4 para os respectivos candidatos, 5 para votar nulo e 6 para votar em branco): 5\n",
            "Funcionário 11, digite sua opção (1, 2, 3 e 4 para os respectivos candidatos, 5 para votar nulo e 6 para votar em branco): 6\n",
            "Funcionário 12, digite sua opção (1, 2, 3 e 4 para os respectivos candidatos, 5 para votar nulo e 6 para votar em branco): 5\n",
            "Funcionário 13, digite sua opção (1, 2, 3 e 4 para os respectivos candidatos, 5 para votar nulo e 6 para votar em branco): 2\n",
            "Funcionário 14, digite sua opção (1, 2, 3 e 4 para os respectivos candidatos, 5 para votar nulo e 6 para votar em branco): 3\n",
            "Funcionário 15, digite sua opção (1, 2, 3 e 4 para os respectivos candidatos, 5 para votar nulo e 6 para votar em branco): 5\n",
            "Funcionário 16, digite sua opção (1, 2, 3 e 4 para os respectivos candidatos, 5 para votar nulo e 6 para votar em branco): 6\n",
            "Funcionário 17, digite sua opção (1, 2, 3 e 4 para os respectivos candidatos, 5 para votar nulo e 6 para votar em branco): 6\n",
            "Funcionário 18, digite sua opção (1, 2, 3 e 4 para os respectivos candidatos, 5 para votar nulo e 6 para votar em branco): 1\n",
            "Funcionário 19, digite sua opção (1, 2, 3 e 4 para os respectivos candidatos, 5 para votar nulo e 6 para votar em branco): 2\n",
            "Funcionário 20, digite sua opção (1, 2, 3 e 4 para os respectivos candidatos, 5 para votar nulo e 6 para votar em branco): 3\n",
            "Total:\n",
            "Candidato 1: 2\n",
            "Candidato 2: 3\n",
            "Candidato 3 : 3\n",
            "Candidato 4: 2\n",
            "Votos Nulos: 5\n",
            "Votos em Branco: 5\n",
            "Percentual de votos nulos: 25.0\n",
            "Percentual de votos em branco: 25.0\n"
          ]
        }
      ]
    },
    {
      "cell_type": "markdown",
      "source": [
        "## Aula 5 - Estruturas de dados"
      ],
      "metadata": {
        "id": "eijHQiNU2IZ7"
      }
    },
    {
      "cell_type": "markdown",
      "source": [
        "### Aquecendo na programação"
      ],
      "metadata": {
        "id": "92F0bKtBMgd7"
      }
    },
    {
      "cell_type": "markdown",
      "source": [
        "#### Questão 1\n",
        "Faça um programa que tenha a seguinte lista contendo os valores de gastos de uma empresa de papel `[2172.54, 3701.35, 3518.09, 3456.61, 3249.38, 2840.82, 3891.45, 3075.26, 2317.64, 3219.08]`. Com esses valores, faça um programa que calcule a média de gastos. Dica, use as funções built-in [`sum()`](https://docs.python.org/3/library/functions.html#sum) e [`len()`](https://docs.python.org/3/library/functions.html#len)."
      ],
      "metadata": {
        "id": "IypX2ANuMgeC"
      }
    },
    {
      "cell_type": "code",
      "source": [
        "gastos = [2172.54, 3701.35, 3518.09, 3456.61, 3249.38, 2840.82, 3891.45, 3075.26, 2317.64, 3219.08]\n",
        "somaGastos = sum(gastos)\n",
        "quantidadeGastos = len(gastos)\n",
        "mediaGastos = somaGastos / quantidadeGastos\n",
        "\n",
        "print(f'A média de gastos da empresa é de R${mediaGastos}')"
      ],
      "metadata": {
        "id": "ge3LuFhLMgeD",
        "colab": {
          "base_uri": "https://localhost:8080/"
        },
        "outputId": "91ffface-cd65-475f-dc4f-4cef5444efba"
      },
      "execution_count": null,
      "outputs": [
        {
          "output_type": "stream",
          "name": "stdout",
          "text": [
            "A média de gastos da empresa é de R$3144.222\n"
          ]
        }
      ]
    },
    {
      "cell_type": "markdown",
      "source": [
        "#### Questão 2\n",
        " Com os mesmos dados da questão anterior, defina quantas compras foram acima de 3000 reais e calcule a porcentagem quanto ao total de compras."
      ],
      "metadata": {
        "id": "xrOeLhQkMgeD"
      }
    },
    {
      "cell_type": "code",
      "source": [
        "gastos = [2172.54, 3701.35, 3518.09, 3456.61, 3249.38, 2840.82, 3891.45, 3075.26, 2317.64, 3219.08]\n",
        "compras3000 = 0\n",
        "\n",
        "for valor in gastos:\n",
        "  if valor > 3000.00:\n",
        "    compras3000 += 1\n",
        "\n",
        "porcentagem3000 = (compras3000 * 100) / len(gastos)\n",
        "\n",
        "print(f'Quantidade de compras acima de 3000 reais: {compras3000}')\n",
        "print(f'Porcentagem em relação ao total: {porcentagem3000}%')"
      ],
      "metadata": {
        "id": "Ygu5TMZyMgeD",
        "colab": {
          "base_uri": "https://localhost:8080/"
        },
        "outputId": "ef8d2fae-97db-44a5-e79e-c83ca0cdc59a"
      },
      "execution_count": null,
      "outputs": [
        {
          "output_type": "stream",
          "name": "stdout",
          "text": [
            "Quantidade de compras acima de 3000 reais: 7\n",
            "Porcentagem em relação ao total: 70.0%\n"
          ]
        }
      ]
    },
    {
      "cell_type": "markdown",
      "source": [
        "#### Questão 3\n",
        "Faça um código que colete em uma lista 5 números inteiros quaisquer e imprima a lista. Exemplo: `[1,4,7,2,4]`."
      ],
      "metadata": {
        "id": "JgCOrE_BMgeD"
      }
    },
    {
      "cell_type": "code",
      "source": [
        "lista = []\n",
        "\n",
        "for i in range(0, 5):\n",
        "  numero = int(input('Digite um número inteiro qualquer: '))\n",
        "  lista.append(numero)\n",
        "print(f'Sua lista final: {lista}')"
      ],
      "metadata": {
        "id": "vtM9O1hLMgeD",
        "colab": {
          "base_uri": "https://localhost:8080/"
        },
        "outputId": "12b1602d-d150-48f7-d721-4159b3853c7c"
      },
      "execution_count": null,
      "outputs": [
        {
          "output_type": "stream",
          "name": "stdout",
          "text": [
            "Digite um número inteiro qualquer: 1\n",
            "Digite um número inteiro qualquer: 4\n",
            "Digite um número inteiro qualquer: 7\n",
            "Digite um número inteiro qualquer: 2\n",
            "Digite um número inteiro qualquer: 4\n",
            "Sua lista final: [1, 4, 7, 2, 4]\n"
          ]
        }
      ]
    },
    {
      "cell_type": "markdown",
      "source": [
        "#### Questão 4\n",
        "Colete novamente 5 inteiros e imprima a lista em ordem inversa à enviada."
      ],
      "metadata": {
        "id": "p3bTp88HMgeD"
      }
    },
    {
      "cell_type": "code",
      "source": [
        "lista = []\n",
        "\n",
        "for i in range(0, 5):\n",
        "  numero = int(input('Digite um número inteiro qualquer: '))\n",
        "  lista.insert(0, numero)\n",
        "print(f'Sua lista final inversa: {lista}')"
      ],
      "metadata": {
        "id": "-CGwMIyHMgeD",
        "colab": {
          "base_uri": "https://localhost:8080/"
        },
        "outputId": "44dfbb4e-ddf4-4ff3-c4a5-863b8847e3b1"
      },
      "execution_count": null,
      "outputs": [
        {
          "output_type": "stream",
          "name": "stdout",
          "text": [
            "Digite um número inteiro qualquer: 4\n",
            "Digite um número inteiro qualquer: 0\n",
            "Digite um número inteiro qualquer: 0\n",
            "Digite um número inteiro qualquer: 2\n",
            "Digite um número inteiro qualquer: 8\n",
            "Sua lista final inversa: [8, 2, 0, 0, 4]\n"
          ]
        }
      ]
    },
    {
      "cell_type": "markdown",
      "source": [
        "#### Questão 5\n",
        "Faça um programa que, ao inserir um número qualquer, criará uma lista contendo todos os números primos entre 1 e o número digitado."
      ],
      "metadata": {
        "id": "eIXd_z1lMgeD"
      }
    },
    {
      "cell_type": "code",
      "source": [
        "numero = int(input('Digite um número: '))\n",
        "lista = []\n",
        "\n",
        "for num in range(2, numero):\n",
        "  primo = True\n",
        "\n",
        "  for teste in range(2, num):\n",
        "    if num % teste == 0:\n",
        "      primo = False\n",
        "      break\n",
        "  if primo:\n",
        "    lista.append(num)\n",
        "print(f'Números primos: {lista}')"
      ],
      "metadata": {
        "id": "rj_6GHstMgeE",
        "colab": {
          "base_uri": "https://localhost:8080/"
        },
        "outputId": "e2e63f31-78d3-4189-fc8a-1d0078691328"
      },
      "execution_count": null,
      "outputs": [
        {
          "output_type": "stream",
          "name": "stdout",
          "text": [
            "Digite um número: 10\n",
            "Números primos: [2, 3, 5, 7]\n"
          ]
        }
      ]
    },
    {
      "cell_type": "markdown",
      "source": [
        "#### Questão 6\n",
        "Escreva um programa que peça uma data informando o dia, mês e ano e determine se ela é uma data válida para uma análise."
      ],
      "metadata": {
        "id": "zrbz3ENlMgeE"
      }
    },
    {
      "cell_type": "code",
      "source": [
        "dia = int(input('Digite o dia: '))\n",
        "mes = int(input('Digite o mês: '))\n",
        "ano = int(input('Digite o ano: '))\n",
        "\n",
        "if mes == 2:\n",
        "  if ano % 4 == 0 and (ano % 400 == 0 or ano % 100 != 0):\n",
        "    dias_fevereiro = 29\n",
        "  else:\n",
        "    dias_fevereiro = 28\n",
        "  if dia >= 1 and dia <= dias_fevereiro:\n",
        "    print('Data válida!')\n",
        "  else:\n",
        "    print('Data inválida!')\n",
        "elif mes in [1, 3, 5, 7, 8, 10, 12]:\n",
        "  if dia >= 1 and dia <= 31:\n",
        "    print('Data válida!')\n",
        "  else:\n",
        "    print('Data inválida!')\n",
        "elif mes in [2, 4, 6, 9, 11]:\n",
        "  if dia >= 1 and dia <= 30:\n",
        "    print('Data válida!')\n",
        "  else:\n",
        "    print('Data inválida!')\n",
        "else:\n",
        "  print('Data inválida!')"
      ],
      "metadata": {
        "id": "0eYA8UjTMgeE",
        "colab": {
          "base_uri": "https://localhost:8080/"
        },
        "outputId": "1857536e-951e-494c-8968-8c795be1068c"
      },
      "execution_count": null,
      "outputs": [
        {
          "output_type": "stream",
          "name": "stdout",
          "text": [
            "Digite o dia: 29\n",
            "Digite o mês: 2\n",
            "Digite o ano: 2016\n",
            "Data válida!\n"
          ]
        }
      ]
    },
    {
      "cell_type": "markdown",
      "source": [
        "### Momento dos projetos"
      ],
      "metadata": {
        "id": "ut_4VHdGMgeE"
      }
    },
    {
      "cell_type": "markdown",
      "source": [
        "#### Questão 7\n",
        "Para um estudo envolvendo o nível de multiplicação de bactérias em uma colônia, foi coletado o número de bactérias multiplicadas por dia, com base em um processo de duplicação diária e pode ser observado a seguir: `[1.2, 2.1, 3.3, 5.0, 7.8, 11.3, 16.6, 25.1, 37.8, 56.9]`. Tendo esses valores, faça um código que gere uma lista contendo o percentual de crescimento de bactérias por dia, comparando o número de bactérias em cada dia com o número de bactérias do dia anterior. Dica: para calcular o percentual de crescimento usamos a seguinte equação: `100 * (amostra_atual - amostra_passada) / (amostra_passada)`."
      ],
      "metadata": {
        "id": "G86Z0vD_MgeE"
      }
    },
    {
      "cell_type": "code",
      "source": [
        "amostraBacteria = [1.2, 2.1, 3.3, 5.0, 7.8, 11.3, 16.6, 25.1, 37.8, 56.9]\n",
        "listaPercentual = []\n",
        "\n",
        "for i in range(1, len(amostraBacteria)):\n",
        "  percentual = 100 * (amostraBacteria[i] - amostraBacteria[i-1]) / (amostraBacteria[i-1])\n",
        "  listaPercentual.append(percentual)\n",
        "print(f'Percentuais de Crescimento:\\n{listaPercentual}')"
      ],
      "metadata": {
        "id": "PXNO_CFkMgeE",
        "colab": {
          "base_uri": "https://localhost:8080/"
        },
        "outputId": "ed3ecad8-43e4-46a5-a1e1-f2fbcd93fa18"
      },
      "execution_count": null,
      "outputs": [
        {
          "output_type": "stream",
          "name": "stdout",
          "text": [
            "Percentuais de Crescimento:\n",
            "[75.00000000000001, 57.142857142857125, 51.51515151515153, 56.0, 44.87179487179489, 46.90265486725664, 51.20481927710843, 50.59760956175297, 50.52910052910054]\n"
          ]
        }
      ]
    },
    {
      "cell_type": "markdown",
      "source": [
        "#### Questão 8\n",
        "Para uma seleção de produtos alimentícios, precisamos separar o conjunto de IDs dados por números inteiros, sabendo que os produtos com ID par são doces e os com ID ímpar são amargos. Monte um código que colete 10 IDs. Depois, calcule e mostre a quantidade de produtos doces e amargos."
      ],
      "metadata": {
        "id": "p4nxogpnMgeE"
      }
    },
    {
      "cell_type": "code",
      "source": [
        "doces = 0\n",
        "amargos = 0\n",
        "listaID = []\n",
        "\n",
        "for i in range(0, 10):\n",
        "  listaID.append(int(input(f'Digite o {i+1}° ID: ')))\n",
        "for id in listaID:\n",
        "  if id % 2 == 0:\n",
        "    doces += 1\n",
        "  else:\n",
        "    amargos += 1\n",
        "\n",
        "print(f'Produtos doces: {doces}\\nProdutos amargos: {amargos}')"
      ],
      "metadata": {
        "id": "WqjO2SZkMgeE",
        "colab": {
          "base_uri": "https://localhost:8080/"
        },
        "outputId": "5465a0eb-f28f-4127-e623-74cf25005fdb"
      },
      "execution_count": null,
      "outputs": [
        {
          "output_type": "stream",
          "name": "stdout",
          "text": [
            "Digite o 1° ID: 56\n",
            "Digite o 2° ID: 2\n",
            "Digite o 3° ID: 86\n",
            "Digite o 4° ID: 7\n",
            "Digite o 5° ID: 9\n",
            "Digite o 6° ID: 5\n",
            "Digite o 7° ID: 25\n",
            "Digite o 8° ID: 6\n",
            "Digite o 9° ID: 1\n",
            "Digite o 10° ID: 5\n",
            "Produtos doces: 4\n",
            "Produtos amargos: 6\n"
          ]
        }
      ]
    },
    {
      "cell_type": "markdown",
      "source": [
        "#### Questão 9\n",
        "Desenvolva um programa que informa a nota de um aluno de acordo com suas respostas. Ele deve pedir a resposta de um aluno para cada questão e é preciso verificar se a resposta foi igual ao gabarito. Cada questão vale um ponto e existem alternativas:  A, B, C ou D.\n",
        "```\n",
        "Gabarito da Prova:\n",
        "01 - D\n",
        "02 - A\n",
        "03 - C\n",
        "04 - B\n",
        "05 - A\n",
        "06 - D\n",
        "07 - C\n",
        "08 - C\n",
        "09 - A\n",
        "10 - B\n",
        "```"
      ],
      "metadata": {
        "id": "t5OrLxV6MgeE"
      }
    },
    {
      "cell_type": "code",
      "source": [
        "gabarito = ['D', 'A', 'C', 'B', 'A', 'D', 'C', 'C', 'A', 'B']\n",
        "respostas = []\n",
        "nota = 0\n",
        "\n",
        "for i in range(0, 10):\n",
        "  respostas.append(input(f'Digite a resposta da questão {i+1}: ').upper())\n",
        "for i in range(0, 10):\n",
        "  if respostas[i] == gabarito[i]:\n",
        "    nota +=1\n",
        "print(f'Sua nota é: {nota}')"
      ],
      "metadata": {
        "id": "ytIQDJrQMgeE",
        "colab": {
          "base_uri": "https://localhost:8080/"
        },
        "outputId": "498455a4-aa2e-452f-dfff-e82cac5a476a"
      },
      "execution_count": null,
      "outputs": [
        {
          "output_type": "stream",
          "name": "stdout",
          "text": [
            "Digite a resposta da questão 1: a\n",
            "Digite a resposta da questão 2: a\n",
            "Digite a resposta da questão 3: a\n",
            "Digite a resposta da questão 4: a\n",
            "Digite a resposta da questão 5: a\n",
            "Digite a resposta da questão 6: a\n",
            "Digite a resposta da questão 7: a\n",
            "Digite a resposta da questão 8: a\n",
            "Digite a resposta da questão 9: a\n",
            "Digite a resposta da questão 10: a\n",
            "Sua nota é: 3\n"
          ]
        }
      ]
    },
    {
      "cell_type": "markdown",
      "source": [
        "#### Questão 10\n",
        "Um instituto de meteorologia deseja fazer um estudo de temperatura média de cada mês do ano. Para isso, você precisa fazer um código que colete e armazene essas temperaturas médias em uma lista. Depois, calcule a média anual das temperaturas e mostre todas as temperaturas acima da média anual, e em que mês elas ocorreram, mostrando os meses por extenso: Janeiro, Fevereiro, etc."
      ],
      "metadata": {
        "id": "aSBMzh-AMgeF"
      }
    },
    {
      "cell_type": "code",
      "source": [
        "temperaturas = []\n",
        "meses = ['Janeiro', 'Fevereiro', 'Março', 'Abril', 'Maio', 'Junho', 'Julho', 'Agosto', 'Setembro', 'Outubro', 'Novembro', 'Dezembro']\n",
        "\n",
        "for i in meses:\n",
        "  temperaturas.append(float(input(f'Digite a temperatura média do mês de {i}: ')))\n",
        "\n",
        "mediaAnual = sum(temperaturas) / len(temperaturas)\n",
        "\n",
        "print(f'Média de temperatura anual: {mediaAnual}°\\nMeses em que a temperatura ultrapassou a média anual: ')\n",
        "\n",
        "for i in range(0, 12):\n",
        "  if temperaturas[i] > mediaAnual:\n",
        "    print(meses[i])"
      ],
      "metadata": {
        "id": "ftj04s2uMgeF",
        "colab": {
          "base_uri": "https://localhost:8080/"
        },
        "outputId": "fb9ff7a9-c615-4d3d-a979-a170c418dab7"
      },
      "execution_count": null,
      "outputs": [
        {
          "output_type": "stream",
          "name": "stdout",
          "text": [
            "Digite a temperatura média do mês de Janeiro: 5\n",
            "Digite a temperatura média do mês de Fevereiro: 6\n",
            "Digite a temperatura média do mês de Março: 8\n",
            "Digite a temperatura média do mês de Abril: 10\n",
            "Digite a temperatura média do mês de Maio: 25\n",
            "Digite a temperatura média do mês de Junho: 23\n",
            "Digite a temperatura média do mês de Julho: 28\n",
            "Digite a temperatura média do mês de Agosto: 30\n",
            "Digite a temperatura média do mês de Setembro: 32\n",
            "Digite a temperatura média do mês de Outubro: 14\n",
            "Digite a temperatura média do mês de Novembro: 11\n",
            "Digite a temperatura média do mês de Dezembro: 2\n",
            "Média de temperatura anual: 16.166666666666668°\n",
            "Meses em que a temperatura ultrapassou a média anual: \n",
            "Maio\n",
            "Junho\n",
            "Julho\n",
            "Agosto\n",
            "Setembro\n"
          ]
        }
      ]
    },
    {
      "cell_type": "markdown",
      "source": [
        "#### Questão 11\n",
        "Uma empresa de e-commerce está interessada em analisar as vendas dos seus produtos. Os dados das vendas foram armazenados em um dicionário:\n",
        "```\n",
        "{'Produto A': 300, 'Produto B': 80, 'Produto C': 60,\n",
        " 'Produto D': 200, 'Produto E': 250, 'Produto F': 30}\n",
        "```\n",
        "Escreva um código que calcule o total de vendas e o produto mais vendido."
      ],
      "metadata": {
        "id": "0X8S6s4jMgeF"
      }
    },
    {
      "cell_type": "code",
      "source": [
        "dadosVendas = {'Produto A': 300, 'Produto B': 80, 'Produto C': 60, 'Produto D': 200, 'Produto E': 250, 'Produto F': 30}\n",
        "\n",
        "totalVendas = 0\n",
        "produtoMaisVendido = ''\n",
        "unidadesProdutoMaisVendido = 0\n",
        "\n",
        "for produto in dadosVendas.keys():\n",
        "  totalVendas += dadosVendas[produto]\n",
        "  if dadosVendas[produto] > unidadesProdutoMaisVendido:\n",
        "    unidadesProdutoMaisVendido = dadosVendas[produto]\n",
        "    produtoMaisVendido = produto\n",
        "\n",
        "print(f'Total de vendas: {totalVendas}\\nProduto mais vendido: {produtoMaisVendido}')"
      ],
      "metadata": {
        "id": "Xa3DJLtFMgeF",
        "colab": {
          "base_uri": "https://localhost:8080/"
        },
        "outputId": "05936f25-c3cf-4d3d-dee6-44a7cc37c5d8"
      },
      "execution_count": null,
      "outputs": [
        {
          "output_type": "stream",
          "name": "stdout",
          "text": [
            "Total de vendas: 920\n",
            "Produto mais vendido: Produto A\n"
          ]
        }
      ]
    },
    {
      "cell_type": "markdown",
      "source": [
        "#### Questão 12\n",
        "Uma pesquisa de mercado foi feita para decidir qual design de uma marca infantil mais agrada crianças. A pesquisa foi feita e o votos computados podem ser observados abaixo:\n",
        "```\n",
        "'''\n",
        "Tabela de votos da marca\n",
        "Design 1 - 1334 votos\n",
        "Design 2 - 982 votos\n",
        "Design 3 - 1751 votos\n",
        "Design 4 - 210 votos\n",
        "Design 5 - 1811 votos\n",
        "'''\n",
        "```\n",
        "Adapte os dados fornecidos a você para uma estrutura de dicionário e a partir dele, informe o design vencedor e a porcentagem de votos recebidos.\n"
      ],
      "metadata": {
        "id": "nrEwf_1ZMgeF"
      }
    },
    {
      "cell_type": "code",
      "source": [
        "votos = {'Design 1': 1334, 'Design 2': 982, 'Design 3': 1751, 'Design 4': 210, 'Design 5': 1811}\n",
        "\n",
        "designMaisVotado = ''\n",
        "totalVotos = 0\n",
        "votosMaisVotado = 0\n",
        "\n",
        "for design in votos.keys():\n",
        "  totalVotos += votos[design]\n",
        "\n",
        "  if votos[design] > votosMaisVotado:\n",
        "    votosMaisVotado = votos[design]\n",
        "    designMaisVotado = design\n",
        "\n",
        "porcentagemVencedor = 100 * (votosMaisVotado) / (totalVotos)\n",
        "\n",
        "print(f'O {designMaisVotado} venceu com {porcentagemVencedor}% dos votos!')"
      ],
      "metadata": {
        "id": "MRPcGR-_MgeF",
        "colab": {
          "base_uri": "https://localhost:8080/"
        },
        "outputId": "d07937f4-05ef-4a7c-f25f-de46e3c6ddf7"
      },
      "execution_count": null,
      "outputs": [
        {
          "output_type": "stream",
          "name": "stdout",
          "text": [
            "O Design 5 venceu com 29.747043363994745% dos votos!\n"
          ]
        }
      ]
    },
    {
      "cell_type": "markdown",
      "source": [
        "#### Questão 13\n",
        "Os funcionários de um setor da empresa que você trabalha vão receber um abono correspondente a 10% do seu salário devido ao ótimo desempenho do time. O setor financeiro solicitou sua ajuda para a verificação das consequências financeiras que esse abono irá gerar nos recursos. Assim, foi encaminhada para você uma lista com os salários que receberão o abono: `[1172, 1644, 2617, 5130, 5532, 6341, 6650, 7238, 7685, 7782, 7903]`. O abono de cada funcionário não pode ser inferior a 200. Em código, transforme cada um dos salários em chaves de um dicionário e o abono de cada salário no elemento. Depois, informe o total de gastos com o abono, quantos funcionários receberam o abono mínimo e qual o maior valor de abono fornecido.\n"
      ],
      "metadata": {
        "id": "HRTFFzKIMgeF"
      }
    },
    {
      "cell_type": "code",
      "source": [
        "salarios = [1172, 1644, 2617, 5130, 5532, 6341, 6650, 7238, 7685, 7782, 7903]\n",
        "dicAbonos = {}\n",
        "totalAbonos = 0\n",
        "quantidadeAbonoMinimo = 0\n",
        "maiorAbono = 0\n",
        "\n",
        "for salario in salarios:\n",
        "  abono = salario * 0.1\n",
        "  if abono < 200:\n",
        "    abono = 200\n",
        "  dicAbonos[salario] = abono\n",
        "\n",
        "for abono in dicAbonos.values():\n",
        "  totalAbonos += abono\n",
        "  if abono == 200:\n",
        "    quantidadeAbonoMinimo += 1\n",
        "  if abono > maiorAbono:\n",
        "    maiorAbono = abono\n",
        "\n",
        "print(f'Abonos: {dicAbonos}\\nTotal de Gastos com Abono: {totalAbonos}\\nQuantidade de Abonos Mínimos: {quantidadeAbonoMinimo}\\nMaior Abono: {maiorAbono}')\n"
      ],
      "metadata": {
        "id": "QsDSCua42bLB",
        "colab": {
          "base_uri": "https://localhost:8080/"
        },
        "outputId": "874779e9-8d9c-4b19-d992-5f31b760e19b"
      },
      "execution_count": null,
      "outputs": [
        {
          "output_type": "stream",
          "name": "stdout",
          "text": [
            "Abonos: {1172: 200, 1644: 200, 2617: 261.7, 5130: 513.0, 5532: 553.2, 6341: 634.1, 6650: 665.0, 7238: 723.8000000000001, 7685: 768.5, 7782: 778.2, 7903: 790.3000000000001}\n",
            "Total de Gastos com Abono: 6087.8\n",
            "Quantidade de Abonos Mínimos: 2\n",
            "Maior Abono: 790.3000000000001\n"
          ]
        }
      ]
    },
    {
      "cell_type": "markdown",
      "source": [
        "#### Questão 14\n",
        "Uma equipe de cientistas de dados está estudando a diversidade biológica em uma floresta. A equipe fez a coleta de informações sobre o número de espécies de plantas e animais em cada área da floresta e armazenaram essas informações em um dicionário. Nele, a chave descreve a área dos dados e os valores nas listas correspondem às espécies de plantas e animais nas áreas, respectivamente.\n",
        "```\n",
        "{'Área Norte': [2819, 7236],\n",
        " 'Área Leste': [1440, 9492],\n",
        " 'Área Sul': [5969, 7496],\n",
        " 'Área Oeste': [14446, 49688],\n",
        " 'Área Centro': [22558, 45148]}\n",
        "```\n",
        "Escreva um código para calcular a média de espécies por área e identificar a área com a maior diversidade biológica. Dica: use as funções built-in [`sum()`](https://docs.python.org/3/library/functions.html#sum) e [`len()`](https://docs.python.org/3/library/functions.html#len).\n"
      ],
      "metadata": {
        "id": "6dEXZEwjMlWy"
      }
    },
    {
      "cell_type": "code",
      "source": [
        "diversidadeBiologica = {'Área Norte': [2819, 7236],\n",
        " 'Área Leste': [1440, 9492],\n",
        " 'Área Sul': [5969, 7496],\n",
        " 'Área Oeste': [14446, 49688],\n",
        " 'Área Centro': [22558, 45148]}\n",
        "\n",
        "maiorDiversidade = ''\n",
        "maiorSoma = 0\n",
        "somaEspecies = 0\n",
        "\n",
        "for area, especies in diversidadeBiologica.items():\n",
        "  media = sum(especies) / len(especies)\n",
        "  somaEspecies = sum(especies)\n",
        "  print(f'A média de espécies da {area} é igual a {media}.')\n",
        "  if maiorSoma < somaEspecies:\n",
        "    maiorSoma = somaEspecies\n",
        "    maiorDiversidade = area\n",
        "print(f'A {maiorDiversidade} tem a maior diversidade biológica.')\n"
      ],
      "metadata": {
        "id": "eQnOUDfYMlWy",
        "colab": {
          "base_uri": "https://localhost:8080/"
        },
        "outputId": "58b4f36e-c1de-43d5-d1ab-758f0bbd7e58"
      },
      "execution_count": null,
      "outputs": [
        {
          "output_type": "stream",
          "name": "stdout",
          "text": [
            "A média de espécies da Área Norte é igual a 5027.5.\n",
            "A média de espécies da Área Leste é igual a 5466.0.\n",
            "A média de espécies da Área Sul é igual a 6732.5.\n",
            "A média de espécies da Área Oeste é igual a 32067.0.\n",
            "A média de espécies da Área Centro é igual a 33853.0.\n",
            "A Área Centro tem a maior diversidade biológica.\n"
          ]
        }
      ]
    },
    {
      "cell_type": "markdown",
      "source": [
        "#### Questão 15\n",
        "O setor de RH da sua empresa te pediu uma ajuda para analisar as idades dos funcionários de 4 setores da empresa. Para isso, ele te forneceu os seguintes dados:\n",
        "```\n",
        "{'Setor A': [22, 26, 30, 30, 35, 38, 40, 56, 57, 65],\n",
        " 'Setor B': [22, 24, 26, 33, 41, 49, 50, 54, 60, 64],\n",
        " 'Setor C': [23, 26, 26, 29, 34, 35, 36, 41, 52, 56],\n",
        " 'Setor D': [19, 20, 25, 27, 34, 39, 42, 44, 50, 65]}\n",
        "```\n",
        "Sabendo que cada setor tem 10 funcionários, construa um código que calcule a média de idade de cada setor, a idade média geral entre todos os setores e quantas pessoas estão acima da idade média geral.\n"
      ],
      "metadata": {
        "id": "r0RW2Sy_MlWy"
      }
    },
    {
      "cell_type": "code",
      "source": [
        "idadesSetor = {'Setor A': [22, 26, 30, 30, 35, 38, 40, 56, 57, 65],\n",
        " 'Setor B': [22, 24, 26, 33, 41, 49, 50, 54, 60, 64],\n",
        " 'Setor C': [23, 26, 26, 29, 34, 35, 36, 41, 52, 56],\n",
        " 'Setor D': [19, 20, 25, 27, 34, 39, 42, 44, 50, 65]}\n",
        "\n",
        "mediaSetor = 0\n",
        "mediaGeral = 0\n",
        "acimaMedia = 0\n",
        "listaMedias = []\n",
        "\n",
        "for setor, idades in idadesSetor.items():\n",
        "  mediaSetor = sum(idades) / len(idades)\n",
        "  print(f'A média de idade dos funcionários do {setor} é de {mediaSetor} anos.')\n",
        "  listaMedias.append(mediaSetor)\n",
        "\n",
        "mediaGeral = sum(listaMedias) / len(listaMedias)\n",
        "\n",
        "for idades in idadesSetor.values():\n",
        "  for id in idades:\n",
        "    if id > mediaGeral:\n",
        "      acimaMedia += 1\n",
        "\n",
        "print(f'Idade média geral: {mediaGeral}\\nQuantidade de funcionários com a idade acima da média: {acimaMedia}')\n",
        "\n"
      ],
      "metadata": {
        "id": "wCiwyKP3MmTz",
        "colab": {
          "base_uri": "https://localhost:8080/"
        },
        "outputId": "24db3457-46a9-4a76-a0dd-12fb8d7e04a6"
      },
      "execution_count": null,
      "outputs": [
        {
          "output_type": "stream",
          "name": "stdout",
          "text": [
            "A média de idade dos funcionários do Setor A é de 39.9 anos.\n",
            "A média de idade dos funcionários do Setor B é de 42.3 anos.\n",
            "A média de idade dos funcionários do Setor C é de 35.8 anos.\n",
            "A média de idade dos funcionários do Setor D é de 36.5 anos.\n",
            "Idade média geral: 38.625\n",
            "Quantidade de funcionários com a idade acima da média: 18\n"
          ]
        }
      ]
    }
  ]
}